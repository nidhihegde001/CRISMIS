{
 "cells": [
  {
   "cell_type": "markdown",
   "metadata": {
    "colab_type": "text",
    "id": "view-in-github"
   },
   "source": [
    "<a href=\"https://colab.research.google.com/github/nidhihegde001/CRISMIS/blob/master/crismis_tool.ipynb\" target=\"_parent\"><img src=\"https://colab.research.google.com/assets/colab-badge.svg\" alt=\"Open In Colab\"/></a>"
   ]
  },
  {
   "cell_type": "code",
   "execution_count": 1,
   "metadata": {
    "colab": {
     "base_uri": "https://localhost:8080/",
     "height": 134
    },
    "colab_type": "code",
    "id": "u0vRvbuRTYiY",
    "outputId": "90fc9006-0c54-47c8-f800-5fd783e6d65a"
   },
   "outputs": [
    {
     "name": "stdout",
     "output_type": "stream",
     "text": [
      "Cloning into 'CRISMIS'...\n",
      "remote: Enumerating objects: 24, done.\u001b[K\n",
      "remote: Counting objects: 100% (24/24), done.\u001b[K\n",
      "remote: Compressing objects: 100% (24/24), done.\u001b[K\n",
      "remote: Total 157 (delta 8), reused 0 (delta 0), pack-reused 133\u001b[K\n",
      "Receiving objects: 100% (157/157), 31.73 MiB | 10.74 MiB/s, done.\n",
      "Resolving deltas: 100% (55/55), done.\n"
     ]
    }
   ],
   "source": [
    "!git clone https://github.com/nidhihegde001/CRISMIS.git"
   ]
  },
  {
   "cell_type": "code",
   "execution_count": 2,
   "metadata": {
    "colab": {
     "base_uri": "https://localhost:8080/",
     "height": 289
    },
    "colab_type": "code",
    "id": "03UrjH-_ThAj",
    "outputId": "8c3a8e11-cf8b-4d8f-a349-da75baa6ab77"
   },
   "outputs": [
    {
     "name": "stdout",
     "output_type": "stream",
     "text": [
      "Collecting planetaryimage\n",
      "  Downloading https://files.pythonhosted.org/packages/41/b8/1706e311a345591870f566d734d79d83d483c411a7425b65f53d8d6c6590/planetaryimage-0.5.0-py2.py3-none-any.whl\n",
      "Collecting pvl\n",
      "\u001b[?25l  Downloading https://files.pythonhosted.org/packages/0d/f2/bfbcebb4e50482aea4a184bb760b80d0b3fcc7cdfeeb357912fa715148ea/pvl-0.3.0.tar.gz (68kB)\n",
      "\u001b[K     |████████████████████████████████| 71kB 4.8MB/s \n",
      "\u001b[?25hRequirement already satisfied: numpy in /usr/local/lib/python3.6/dist-packages (from planetaryimage) (1.18.5)\n",
      "Requirement already satisfied: six in /usr/local/lib/python3.6/dist-packages (from planetaryimage) (1.15.0)\n",
      "Requirement already satisfied: pytz in /usr/local/lib/python3.6/dist-packages (from pvl->planetaryimage) (2018.9)\n",
      "Building wheels for collected packages: pvl\n",
      "  Building wheel for pvl (setup.py) ... \u001b[?25l\u001b[?25hdone\n",
      "  Created wheel for pvl: filename=pvl-0.3.0-py2.py3-none-any.whl size=18718 sha256=5f6e4116d205cea10bde2035e9453b59d059ed8d5c9b0c748b9b61aaebfccda8\n",
      "  Stored in directory: /root/.cache/pip/wheels/19/32/9b/6175182c25a5f3d40f57c064b0b523352f7e75084d179b6c24\n",
      "Successfully built pvl\n",
      "Installing collected packages: pvl, planetaryimage\n",
      "Successfully installed planetaryimage-0.5.0 pvl-0.3.0\n"
     ]
    }
   ],
   "source": [
    "!pip install planetaryimage\n",
    "!pip install astropy\n",
    "!pip install requests\n",
    "!pip install scipy"
   ]
  },
  {
   "cell_type": "code",
   "execution_count": 39,
   "metadata": {
    "colab": {
     "base_uri": "https://localhost:8080/",
     "height": 34
    },
    "colab_type": "code",
    "id": "Ex4LvriSUDcr",
    "outputId": "e7f10635-0089-4683-9d39-7722d12c14b5"
   },
   "outputs": [
    {
     "name": "stdout",
     "output_type": "stream",
     "text": [
      "\u001b[0m\u001b[01;34mCRISMIS\u001b[0m/  \u001b[01;34mdrive\u001b[0m/  \u001b[01;34msample_data\u001b[0m/\n"
     ]
    }
   ],
   "source": [
    "!cd content/\n",
    "!ls"
   ]
  },
  {
   "cell_type": "code",
   "execution_count": 22,
   "metadata": {
    "colab": {
     "base_uri": "https://localhost:8080/",
     "height": 121
    },
    "colab_type": "code",
    "id": "ihEvyv8AV_BY",
    "outputId": "3dfb08e0-62b9-43b0-dc8e-14e14a8656d5"
   },
   "outputs": [
    {
     "name": "stdout",
     "output_type": "stream",
     "text": [
      "Go to this URL in a browser: https://accounts.google.com/o/oauth2/auth?client_id=947318989803-6bn6qk8qdgf4n4g3pfee6491hc0brc4i.apps.googleusercontent.com&redirect_uri=urn%3aietf%3awg%3aoauth%3a2.0%3aoob&scope=email%20https%3a%2f%2fwww.googleapis.com%2fauth%2fdocs.test%20https%3a%2f%2fwww.googleapis.com%2fauth%2fdrive%20https%3a%2f%2fwww.googleapis.com%2fauth%2fdrive.photos.readonly%20https%3a%2f%2fwww.googleapis.com%2fauth%2fpeopleapi.readonly&response_type=code\n",
      "\n",
      "Enter your authorization code:\n",
      "··········\n",
      "Mounted at /content/drive\n"
     ]
    }
   ],
   "source": [
    "# from google.colab import drive\n",
    "# drive.mount('/content/drive')"
   ]
  },
  {
   "cell_type": "code",
   "execution_count": 44,
   "metadata": {
    "colab": {},
    "colab_type": "code",
    "id": "fv-vPrKNWeg0"
   },
   "outputs": [],
   "source": [
    "# Download the trained models and place it in the directory CRISMIS\n",
    "# !cp  drive/My\\ Drive/trained_models/rpn_99.pth CRISMIS/\n",
    "# !cp drive/My\\ Drive/trained_models/classifier_final.pth CRISMIS/"
   ]
  },
  {
   "cell_type": "code",
   "execution_count": 47,
   "metadata": {
    "colab": {
     "base_uri": "https://localhost:8080/",
     "height": 34
    },
    "colab_type": "code",
    "id": "R0EVsK3_YE2w",
    "outputId": "70c2cb9e-21aa-4888-99ff-82ae36d065ad"
   },
   "outputs": [
    {
     "name": "stdout",
     "output_type": "stream",
     "text": [
      "/content/CRISMIS\n"
     ]
    }
   ],
   "source": [
    "!cd CRISMIS"
   ]
  },
  {
   "cell_type": "code",
   "execution_count": 48,
   "metadata": {
    "colab": {
     "base_uri": "https://localhost:8080/",
     "height": 101
    },
    "colab_type": "code",
    "id": "HjMqzU8WVE0x",
    "outputId": "9f0d485b-3706-4146-b19e-8c6f21e9248c"
   },
   "outputs": [
    {
     "name": "stdout",
     "output_type": "stream",
     "text": [
      "artefacts_library.ipynb  \u001b[0m\u001b[01;34mimages\u001b[0m/        README.md               scanner.ipynb\n",
      "\u001b[01;34mclassifier\u001b[0m/              lacosmic.py    \u001b[01;34mREADME_samples\u001b[0m/         tool.py\n",
      "classifier_final.pth     predict.py     \u001b[01;34mrpn\u001b[0m/                    workers.py\n",
      "classifier_Net.ipynb     preprocess.py  rpn_99.pth\n",
      "environment.yml          \u001b[01;34m__pycache__\u001b[0m/   RPN_R50_notebook.ipynb\n"
     ]
    }
   ],
   "source": [
    "# After loading the models, the contents of CRISMIS folder should finally look like this\n",
    "!ls"
   ]
  },
  {
   "cell_type": "code",
   "execution_count": 49,
   "metadata": {
    "colab": {
     "base_uri": "https://localhost:8080/",
     "height": 101
    },
    "colab_type": "code",
    "id": "Wh6QbImRURoQ",
    "outputId": "61530701-f42e-46df-888e-89fe0ef7b56c"
   },
   "outputs": [
    {
     "name": "stdout",
     "output_type": "stream",
     "text": [
      "Loading Models ...\n",
      "Models Loaded\n",
      "\n",
      "Obtaining image and checking for cosmic ray ...\n",
      "Cosmic Ray not found\n"
     ]
    }
   ],
   "source": [
    "#Negative Image\n",
    "!python tool.py --directory 2012_126 --name EN0244689382M.IMG"
   ]
  },
  {
   "cell_type": "code",
   "execution_count": 51,
   "metadata": {
    "colab": {
     "base_uri": "https://localhost:8080/",
     "height": 168
    },
    "colab_type": "code",
    "id": "hyVGk7F7VzsP",
    "outputId": "0a4f2779-177f-49dd-aff4-d69170e4da92"
   },
   "outputs": [
    {
     "name": "stdout",
     "output_type": "stream",
     "text": [
      "Loading Models ...\n",
      "Models Loaded\n",
      "\n",
      "Obtaining image and checking for cosmic ray ...\n",
      "\u001b[0;32mINFO\u001b[0m: Iteration 1: Found 6 cosmic-ray pixels, Total: 6 [lacosmic]\n",
      "No of proposals: 1\n",
      "Final scores 0.9008039\n",
      "\n",
      "Saved to directory- 'predictions/'\n"
     ]
    }
   ],
   "source": [
    "#Positive Image\n",
    "!python tool.py --directory 2014_215 --name EN1049375684M.IMG"
   ]
  },
  {
   "cell_type": "code",
   "execution_count": null,
   "metadata": {
    "colab": {},
    "colab_type": "code",
    "id": "76EBDjvkYOMr"
   },
   "outputs": [],
   "source": []
  }
 ],
 "metadata": {
  "colab": {
   "authorship_tag": "ABX9TyPHh+9ttlp4sCcTheSKva3f",
   "include_colab_link": true,
   "name": "crismis_tool.ipynb",
   "provenance": []
  },
  "kernelspec": {
   "display_name": "Python 3",
   "language": "python",
   "name": "python3"
  },
  "language_info": {
   "codemirror_mode": {
    "name": "ipython",
    "version": 3
   },
   "file_extension": ".py",
   "mimetype": "text/x-python",
   "name": "python",
   "nbconvert_exporter": "python",
   "pygments_lexer": "ipython3",
   "version": "3.7.7"
  }
 },
 "nbformat": 4,
 "nbformat_minor": 1
}
