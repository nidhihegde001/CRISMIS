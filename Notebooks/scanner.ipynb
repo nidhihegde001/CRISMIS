{
  "nbformat": 4,
  "nbformat_minor": 0,
  "metadata": {
    "kernelspec": {
      "display_name": "Python 3",
      "language": "python",
      "name": "python3"
    },
    "language_info": {
      "codemirror_mode": {
        "name": "ipython",
        "version": 3
      },
      "file_extension": ".py",
      "mimetype": "text/x-python",
      "name": "python",
      "nbconvert_exporter": "python",
      "pygments_lexer": "ipython3",
      "version": "3.7.6"
    },
    "colab": {
      "name": "scanner.ipynb",
      "provenance": [],
      "include_colab_link": true
    }
  },
  "cells": [
    {
      "cell_type": "markdown",
      "metadata": {
        "id": "view-in-github",
        "colab_type": "text"
      },
      "source": [
        "<a href=\"https://colab.research.google.com/github/nidhihegde001/CRISMIS/blob/master/scanner.ipynb\" target=\"_parent\"><img src=\"https://colab.research.google.com/assets/colab-badge.svg\" alt=\"Open In Colab\"/></a>"
      ]
    },
    {
      "cell_type": "code",
      "metadata": {
        "id": "klrjpTFJ46om",
        "colab_type": "code",
        "colab": {}
      },
      "source": [
        "from bs4 import BeautifulSoup\n",
        "import urllib.request as urllib2\n",
        "import time\n",
        "from numpy import asarray\n",
        "import re\n",
        "import os\n",
        "import numpy as np\n",
        "from matplotlib import pyplot as plt\n",
        "import tkinter as tk\n",
        "from PIL import Image, ImageTk, ImageEnhance\n",
        "import shutil as sh\n",
        "from astropy import log\n",
        "from astropy.nddata.utils import block_reduce, block_replicate\n",
        "from scipy import ndimage\n",
        "import requests"
      ],
      "execution_count": null,
      "outputs": []
    },
    {
      "cell_type": "code",
      "metadata": {
        "id": "OiVjgRf_dQe6",
        "colab_type": "code",
        "colab": {
          "base_uri": "https://localhost:8080/",
          "height": 34
        },
        "outputId": "3d001feb-7533-4e2e-d295-850623f52022"
      },
      "source": [
        "from google.colab import drive\n",
        "drive.mount('/content/drive')"
      ],
      "execution_count": null,
      "outputs": [
        {
          "output_type": "stream",
          "text": [
            "Drive already mounted at /content/drive; to attempt to forcibly remount, call drive.mount(\"/content/drive\", force_remount=True).\n"
          ],
          "name": "stdout"
        }
      ]
    },
    {
      "cell_type": "markdown",
      "metadata": {
        "id": "gSAPDSXP46o6",
        "colab_type": "text"
      },
      "source": [
        "\n",
        "      ----------\n",
        "      Prints the IMG file\n",
        "\n",
        "      Parameters\n",
        "      ----------\n",
        "      name : str\n",
        "            path to the IMG file ( For e.g. '2011_207/EW0220137668G.IMG' )\n",
        "\n",
        "      Returns\n",
        "      ----------\n",
        "      im : PIL image "
      ]
    },
    {
      "cell_type": "code",
      "metadata": {
        "id": "SJgQM6uV46o8",
        "colab_type": "code",
        "colab": {}
      },
      "source": [
        "# Print an image from IMG file\n",
        "def print_im(name):\n",
        "    # Open the file\n",
        "    file = open(name ,\"rb\")\n",
        "    img_data = bytearray()\n",
        "    header = []\n",
        "    # Test takes 2 values:\n",
        "    # 0-> Before end of header is reached\n",
        "    # 1-> End of header and start of image data\n",
        "    test = 0\n",
        "    for line in file.readlines():\n",
        "        # Read Image data\n",
        "        if test: \n",
        "            img_data.extend(line)\n",
        "\n",
        "        # End of header is reached\n",
        "        elif re.match(\"^END$\", line.decode('utf-8').strip()):\n",
        "            test = 1\n",
        "\n",
        "        # Read the Header\n",
        "        else:\n",
        "            header.append(line.decode('utf-8').strip())\n",
        "\n",
        "\n",
        "    # Flag takes 3 values:\n",
        "    # 0-> before required data is encountered\n",
        "    # 1-> Reading required data\n",
        "    # 2-> after the required data is read\n",
        "    flag = 0\n",
        "    for line in header:\n",
        "        \n",
        "        # Start Byte\n",
        "        if re.match('^\\^IMAGE',line):\n",
        "            n = line.split('=')\n",
        "            start_byte = int(n[1].strip())\n",
        "        \n",
        "        # End of required data \n",
        "        if re.match('^END_OBJECT',line):\n",
        "            flag = 2\n",
        "\n",
        "        # Beginning of required data\n",
        "        if re.match('^OBJECT',line):\n",
        "            flag = 1\n",
        "        \n",
        "        # Required data\n",
        "        if flag == 1:\n",
        "            if re.match('^LINES',line):\n",
        "                # Extract no of rows\n",
        "                a = line.split()\n",
        "                row = int(a[2])\n",
        "\n",
        "            elif re.match('^LINE_SAMPLES',line):\n",
        "                # Extract no of columns\n",
        "                a = line.split()\n",
        "                column = int(a[2])\n",
        "\n",
        "            elif re.match('^SAMPLE_BITS',line):\n",
        "                # Extract the type of bit encoding\n",
        "                a = line.split()\n",
        "                typ = 'uint'+ a[2]\n",
        "\n",
        "    print(row,column,typ)\n",
        "    print(name)\n",
        "    print(start_byte)\n",
        "#     print(len(img_data.decode()))\n",
        "\n",
        "    # b => bit width of data\n",
        "    b = int(a[2])\n",
        "\n",
        "    # Numpy array from byte array\n",
        "    a = np.frombuffer(img_data[len(img_data)%16:],dtype=typ)\n",
        "#     print(a)\n",
        "\n",
        "    # s => No of extra bits in the image data = Total no of bits - rows*columns\n",
        "    s = (a.size/row -column)*row\n",
        "    \n",
        "    if s<0:\n",
        "        return None\n",
        "#     print(s)\n",
        "\n",
        "    # t => Array after Trash data is removed\n",
        "    t = a[int(s):].copy()\n",
        "#     print(t.size)\n",
        "    t.resize((row,column))\n",
        "\n",
        "    # Reshaping the array\n",
        "    np.divide(t,float(2**(b-8)))\n",
        "    t = t.astype('uint8')\n",
        "\n",
        "    # Print image\n",
        "    im = Image.fromarray(t)\n",
        "    plt.imshow(im,cmap='gray',vmin=0,vmax=255)\n",
        "    plt.show()\n",
        "    return im"
      ],
      "execution_count": null,
      "outputs": []
    },
    {
      "cell_type": "markdown",
      "metadata": {
        "id": "9Q8pgxg9KaP6",
        "colab_type": "text"
      },
      "source": [
        "      ----------\n",
        "      Saves the image in .PNG format\n",
        "\n",
        "      Parameters\n",
        "      ----------\n",
        "      im : PIL image\n",
        "          Return value of print_im\n",
        "      dir_nm : str\n",
        "          loc of the directory where images are to be saved\n",
        "      name : str\n",
        "          Name of the .IMG file        "
      ]
    },
    {
      "cell_type": "code",
      "metadata": {
        "id": "xorQP1xJLgaq",
        "colab_type": "code",
        "colab": {}
      },
      "source": [
        "def save_as_png(im, dir_nm,name):\n",
        "    file_nm = name.split('.')[0]\n",
        "    im = im.resize([1024,1024])\n",
        "    arr = np.array(im)\n",
        "    plt.imsave( dir_nm + '/'+ file_nm + '.png', arr ,cmap='gray')"
      ],
      "execution_count": null,
      "outputs": []
    },
    {
      "cell_type": "markdown",
      "metadata": {
        "id": "DyPWgxAdLh9H",
        "colab_type": "text"
      },
      "source": [
        "      ----------\n",
        "      Enhance the image contrast (show the surface of the planet beneath)\n",
        "      \n",
        "      Parameters\n",
        "      ----------\n",
        "      im : PIL image\n",
        "          Return value of print_im\n",
        "\n",
        "      Returns\n",
        "      ----------\n",
        "      enhanced_im : enhanced PIL image \n",
        "            "
      ]
    },
    {
      "cell_type": "code",
      "metadata": {
        "id": "dYUAnOkgMGda",
        "colab_type": "code",
        "colab": {}
      },
      "source": [
        "def enhance_image(im):\n",
        "    enhancer = ImageEnhance.Contrast(im)\n",
        "    enhanced_im = enhancer.enhance(2.0)\n",
        "    return enhanced_im"
      ],
      "execution_count": null,
      "outputs": []
    },
    {
      "cell_type": "markdown",
      "metadata": {
        "id": "W3deG-Z0MLCK",
        "colab_type": "text"
      },
      "source": [
        "    ----------\n",
        "    url : Class \n",
        "        defined by a unique year and day of year\n",
        "    Methods\n",
        "    ----------\n",
        "    retrieve_all :\n",
        "        retrieves all the images belonging to the url object\n",
        "    retrieve_one :\n",
        "        retrieves a single image, does nothing if the image is already retrieved\n",
        "\n",
        "    show_sort :\n",
        "      A GUI to help sort the images\n",
        "      Parameters\n",
        "      ----------\n",
        "      name : str\n",
        "          Name of the .IMG file\n",
        "      Returns\n",
        "      ----------\n",
        "      A window displaying an image along with 3 buttons\n",
        "      to sort the images into Positive, Negative and Doubtful categories\n",
        "          "
      ]
    },
    {
      "cell_type": "code",
      "metadata": {
        "id": "pg5S5sQ446pS",
        "colab_type": "code",
        "colab": {}
      },
      "source": [
        "class url():\n",
        "    def __init__(self,year,doy, url = \"https://pdsimage2.wr.usgs.gov/archive/mess-e_v_h-mdis-2-edr-rawdata-v1.0/MSGRMDS_1001/DATA/\" ):\n",
        "        self.url = url + str(year) +\"_\"+ doy+\"/\"\n",
        "        self.year = year\n",
        "        self.doy = doy\n",
        "        self.addr = str(year) +\"_\"+ str(doy)\n",
        "        if not os.path.exists(self.addr):\n",
        "            os.mkdir(self.addr)\n",
        "        self.posi_dir = 'Plus'\n",
        "        self.neg_dir = 'Minus'\n",
        "        self.doub_dir = 'Doubtful'\n",
        "        if not os.path.exists(self.posi_dir):\n",
        "            os.mkdir(self.posi_dir)\n",
        "        if not os.path.exists(self.neg_dir):\n",
        "            os.mkdir(self.neg_dir)\n",
        "        if not os.path.exists(self.doub_dir):\n",
        "            os.mkdir(self.doub_dir)\n",
        "    def retrieve_all(self):\n",
        "        links = urllib2.urlopen(self.url).read()\n",
        "        soup = BeautifulSoup(links)\n",
        "        for line in soup.find_all('a',text=re.compile('.IMG')):\n",
        "            if os.path.exists(os.path.join(self.addr,line['href'])):\n",
        "                continue\n",
        "            else:\n",
        "                print (line['href'])\n",
        "                urllib2.urlretrieve(self.url+line['href'],os.path.join(self.addr,line['href']))\n",
        "            #self.show_sort(line['href'])\n",
        "    def retrieve_one(self,name):\n",
        "        path = os.path.join(self.addr,name)\n",
        "        if not os.path.exists(path):\n",
        "            urllib2.urlretrieve(self.url+name,os.path.join(self.addr,name))\n",
        "            print('Downloaded')\n",
        "        else:\n",
        "            print('Already Exists')\n",
        "            \n",
        "    def show_sort(self,name):\n",
        "        im = print_im(os.path.join(self.addr,name))\n",
        "        if (im is None):\n",
        "            return\n",
        "        \n",
        "        def posi():\n",
        "#             sh.copyfile(os.path.join(self.addr,name),os.path.join(self.posi_dir,name))\n",
        "            save_as_png(im,self.posi_dir,name)\n",
        "            root.destroy()\n",
        "        def neg():\n",
        "#             sh.copyfile(os.path.join(self.addr,name),os.path.join(self.neg_dir,name))\n",
        "            save_as_png(im,self.neg_dir,name)\n",
        "            root.destroy()\n",
        "\n",
        "        def doub():\n",
        "#             sh.copyfile(os.path.join(self.addr,name),os.path.join(self.doub_dir,name))\n",
        "            save_as_png(im, self.doub_dir,name)\n",
        "            root.destroy()\n",
        "\n",
        "        # Initialising Widget\n",
        "        root = tk.Tk()\n",
        "        # For Full Screen GUI\n",
        "        root.attributes('-fullscreen', True)\n",
        "        # To exit Full Screen\n",
        "        root.bind(\"<Escape>\", lambda event: root.attributes(\"-fullscreen\", False))\n",
        "\n",
        "        img =  ImageTk.PhotoImage(image=im.resize([1024,1024]), master = root)\n",
        "\n",
        "        b = tk.Button(root, text=\"Negative\", command=neg,width = 64, bg = 'red')\n",
        "        a = tk.Button(root, text=\"Positive\", command=posi,width = 64,bg = 'green')\n",
        "        c = tk.Button(root, text=\"Doubtful\", command=doub,width = 64,bg = 'orange')\n",
        "        canvas = tk.Canvas(root,width=800,height=800)\n",
        "        canvas.pack()\n",
        "        canvas.create_image(20,20, anchor=\"nw\", image=img)\n",
        "        b.pack()\n",
        "        a.pack()\n",
        "        c.pack()\n",
        "        root.mainloop() \n",
        "        "
      ],
      "execution_count": null,
      "outputs": []
    },
    {
      "cell_type": "markdown",
      "metadata": {
        "id": "yNX_op8P46qa",
        "colab_type": "text"
      },
      "source": [
        "#### An example of how to create the Dataset"
      ]
    },
    {
      "cell_type": "code",
      "metadata": {
        "scrolled": true,
        "id": "9u90MFcr46qt",
        "colab_type": "code",
        "colab": {},
        "outputId": "41438569-b212-477e-8dd8-b78b914a3cb6"
      },
      "source": [
        "ur4 = url(2014,'215')\n",
        "ur4.retrieve_all()\n",
        "for file in os.listdir(ur4.addr + '/'):\n",
        "    show_sort(file)"
      ],
      "execution_count": null,
      "outputs": [
        {
          "output_type": "stream",
          "text": [
            "EN1049375694M.IMG\n",
            "EN1049375695M.IMG\n",
            "EN1049375696M.IMG\n",
            "EN1049375697M.IMG\n",
            "EN1049375698M.IMG\n",
            "EN1049375699M.IMG\n",
            "EN1049375700M.IMG\n",
            "EN1049375701M.IMG\n",
            "EN1049375702M.IMG\n",
            "EN1049375703M.IMG\n",
            "EN1049375704M.IMG\n",
            "EN1049375705M.IMG\n",
            "EN1049375706M.IMG\n",
            "EN1049375707M.IMG\n",
            "EN1049375708M.IMG\n",
            "EN1049375709M.IMG\n",
            "EN1049375710M.IMG\n",
            "EN1049375711M.IMG\n",
            "EN1049375712M.IMG\n",
            "EN1049375713M.IMG\n",
            "EN1049375714M.IMG\n",
            "EN1049375715M.IMG\n",
            "EN1049375716M.IMG\n",
            "EN1049375717M.IMG\n",
            "EN1049375718M.IMG\n",
            "EN1049375719M.IMG\n",
            "EN1049375720M.IMG\n",
            "EN1049375721M.IMG\n",
            "EN1049375722M.IMG\n",
            "EN1049375723M.IMG\n",
            "EN1049375724M.IMG\n",
            "EN1049375725M.IMG\n",
            "EN1049375726M.IMG\n",
            "EN1049375727M.IMG\n",
            "EN1049375728M.IMG\n",
            "EN1049375730M.IMG\n",
            "EN1049375731M.IMG\n",
            "EN1049375732M.IMG\n",
            "EN1049375733M.IMG\n",
            "EN1049375734M.IMG\n",
            "EN1049375735M.IMG\n",
            "EN1049375736M.IMG\n",
            "EN1049375737M.IMG\n",
            "EN1049375738M.IMG\n",
            "EN1049375739M.IMG\n",
            "EN1049375740M.IMG\n",
            "EN1049375741M.IMG\n",
            "EN1049375742M.IMG\n",
            "EN1049375743M.IMG\n",
            "EN1049375744M.IMG\n",
            "EN1049375745M.IMG\n",
            "EN1049375746M.IMG\n",
            "EN1049375747M.IMG\n",
            "EN1049375748M.IMG\n",
            "EN1049375749M.IMG\n",
            "EN1049375750M.IMG\n"
          ],
          "name": "stdout"
        }
      ]
    },
    {
      "cell_type": "code",
      "metadata": {
        "scrolled": true,
        "id": "S9NaOSZM46q9",
        "colab_type": "code",
        "colab": {}
      },
      "source": [
        "#3rd June, 2011\n",
        "ur = url(2011,'154')\n",
        "ur.retrieve_all()\n",
        "for file in os.listdir(ur.addr + '/'):\n",
        "    ur.show_sort(file)"
      ],
      "execution_count": null,
      "outputs": []
    },
    {
      "cell_type": "markdown",
      "metadata": {
        "id": "KB9tSPdS46v5",
        "colab_type": "text"
      },
      "source": [
        "#### Display some retrieved images "
      ]
    },
    {
      "cell_type": "code",
      "metadata": {
        "id": "eAE8xoxi46v8",
        "colab_type": "code",
        "colab": {},
        "outputId": "603d412f-e0ee-4561-dd33-f52a2729a2e8"
      },
      "source": [
        "i1 = url()\n",
        "i1.retrieve_one('EW0220137668G.IMG')\n",
        "i1_arr = print_im('2011_207/EW0220137668G.IMG')"
      ],
      "execution_count": null,
      "outputs": [
        {
          "output_type": "stream",
          "text": [
            "Already Exists\n",
            "1024 1024 uint8\n"
          ],
          "name": "stdout"
        },
        {
          "output_type": "display_data",
          "data": {
            "image/png": "[encoded data removed]",
            "text/plain": [
              "<Figure size 432x288 with 1 Axes>"
            ]
          },
          "metadata": {
            "tags": [],
            "needs_background": "light"
          }
        }
      ]
    },
    {
      "cell_type": "code",
      "metadata": {
        "id": "E7_iBMKP46wq",
        "colab_type": "code",
        "colab": {},
        "outputId": "eab4cc67-1caf-4844-985b-8ffa4df8c374"
      },
      "source": [
        "i2 = url(2014,215)\n",
        "i2.retrieve_one('EN1049375684M.IMG')\n",
        "i2_arr = print_im('2014_215/EN1049375684M.IMG')"
      ],
      "execution_count": null,
      "outputs": [
        {
          "output_type": "stream",
          "text": [
            "Already Exists\n",
            "512 512 uint8\n"
          ],
          "name": "stdout"
        },
        {
          "output_type": "display_data",
          "data": {
            "image/png": "[encoded data removed]",
            "text/plain": [
              "<Figure size 432x288 with 1 Axes>"
            ]
          },
          "metadata": {
            "tags": [],
            "needs_background": "light"
          }
        }
      ]
    },
    {
      "cell_type": "markdown",
      "metadata": {
        "id": "fnjXsb_jOwKP",
        "colab_type": "text"
      },
      "source": [
        "      ----------\n",
        "      Extracts the image HEADER containing meta-data\n",
        "      \n",
        "      Parameters\n",
        "      ----------\n",
        "      fil_nm : str\n",
        "          Name of the .IMG file\n",
        "\n",
        "      Returns\n",
        "      ----------\n",
        "      no_lines : int\n",
        "          No of lines in the header\n",
        "      header : str\n",
        "          The header string"
      ]
    },
    {
      "cell_type": "code",
      "metadata": {
        "id": "cYiy69eD46w0",
        "colab_type": "code",
        "colab": {}
      },
      "source": [
        "def extract_header(fil_nm):\n",
        "    a = open(fil_nm,\"rb\")\n",
        "    header = []\n",
        "    no_lines = 0\n",
        "    for line in a.readlines():\n",
        "        if re.match(\"^END$\", line.decode('utf-8', errors = 'ignore').strip()):\n",
        "            header.append(line.decode('utf-8').strip())\n",
        "            break\n",
        "            \n",
        "        else:\n",
        "            header.append(line.decode('utf-8', errors = 'ignore').strip())\n",
        "            no_lines+=1\n",
        "            \n",
        "    return no_lines,header"
      ],
      "execution_count": null,
      "outputs": []
    },
    {
      "cell_type": "markdown",
      "metadata": {
        "id": "3AQyif1TPOHv",
        "colab_type": "text"
      },
      "source": [
        "      ----------\n",
        "      Prints target name of the image"
      ]
    },
    {
      "cell_type": "code",
      "metadata": {
        "id": "46IrUpfLPO7R",
        "colab_type": "code",
        "colab": {}
      },
      "source": [
        "def print_target_name(header):            \n",
        "    for line in header:\n",
        "        if re.match('^TARGET_NAME',line):\n",
        "            target = line.split('\"')[1]\n",
        "            print(target)"
      ],
      "execution_count": null,
      "outputs": []
    },
    {
      "cell_type": "markdown",
      "metadata": {
        "id": "zmTn21B8dEuY",
        "colab_type": "text"
      },
      "source": [
        "# MESSENGER Archive Scanner"
      ]
    },
    {
      "cell_type": "code",
      "metadata": {
        "id": "SERP6X2tKYb9",
        "colab_type": "code",
        "colab": {}
      },
      "source": [
        "'''\n",
        "    Source: (Modified from) lacosmic library, Astropy\n",
        "\n",
        "    Returns\n",
        "    -------\n",
        "    cr_image : numpy array\n",
        "               The cosmic ray mask for the input image (0-background pixel, 255-cosmic ray pixel)\n",
        "    ncosmics_tot : int\n",
        "                Total number of cosmic ray pixels in the image\n",
        "    '''\n",
        "\n",
        "def lacosmic(data, contrast, cr_threshold, neighbor_threshold,\n",
        "             error=None, mask=None, background=None, effective_gain=None,\n",
        "             readnoise=None, maxiter=4, border_mode='mirror'):\n",
        "\n",
        "    block_size = 2.0\n",
        "    kernel = np.array([[0.0, -1.0, 0.0], [-1.0, 4.0, -1.0], [0.0, -1.0, 0.0]])\n",
        "\n",
        "    clean_data = data.copy()\n",
        "    if background is not None:\n",
        "        clean_data += background\n",
        "    final_crmask = np.zeros(data.shape, dtype=bool)\n",
        "\n",
        "    if error is not None:\n",
        "        if data.shape != error.shape:\n",
        "            raise ValueError('error and data must have the same shape')\n",
        "    clean_error_image = error\n",
        "\n",
        "    ncosmics, ncosmics_tot = 0, 0\n",
        "    for iteration in range(maxiter):\n",
        "        sampled_img = block_replicate(clean_data, block_size)\n",
        "        convolved_img = ndimage.convolve(sampled_img, kernel,\n",
        "                                         mode=border_mode).clip(min=0.0)\n",
        "        laplacian_img = block_reduce(convolved_img, block_size)\n",
        "\n",
        "        if clean_error_image is None:\n",
        "            if effective_gain is None or readnoise is None:\n",
        "                raise ValueError('effective_gain and readnoise must be '\n",
        "                                 'input if error is not input')\n",
        "            med5_img = ndimage.median_filter(clean_data, size=5,\n",
        "                                             mode=border_mode).clip(min=1.e-5)\n",
        "            error_image = (np.sqrt(effective_gain*med5_img + readnoise**2) /\n",
        "                           effective_gain)\n",
        "        else:\n",
        "            error_image = clean_error_image\n",
        "\n",
        "        snr_img = laplacian_img / (block_size * error_image)\n",
        "        # this is used to remove extended structures (larger than ~5x5)\n",
        "        snr_img -= ndimage.median_filter(snr_img, size=5, mode=border_mode)\n",
        "\n",
        "        # used to remove compact bright objects\n",
        "        med3_img = ndimage.median_filter(clean_data, size=3, mode=border_mode)\n",
        "        med7_img = ndimage.median_filter(med3_img, size=7, mode=border_mode)\n",
        "        finestruct_img = ((med3_img - med7_img) / error_image).clip(min=0.01)\n",
        "\n",
        "        cr_mask1 = snr_img > cr_threshold\n",
        "        # NOTE: to follow the paper exactly, this condition should be\n",
        "        # \"> contrast * block_size\".  \"lacos_im.cl\" uses simply \"> contrast\"\n",
        "        cr_mask2 = (snr_img / finestruct_img) > contrast\n",
        "        cr_mask = cr_mask1 * cr_mask2\n",
        "        if mask is not None:\n",
        "            cr_mask = np.logical_and(cr_mask, ~mask)\n",
        "\n",
        "        # grow cosmic rays by one pixel and check in snr_img\n",
        "        selem = np.ones((3, 3))\n",
        "        neigh_mask = ndimage.binary_dilation(cr_mask, selem)\n",
        "        cr_mask = cr_mask1 * neigh_mask\n",
        "        # now grow one more pixel and lower the detection threshold\n",
        "        neigh_mask = ndimage.binary_dilation(cr_mask, selem)\n",
        "        cr_mask = (snr_img > neighbor_threshold) * neigh_mask\n",
        "\n",
        "        # previously unknown cosmic rays found in this iteration\n",
        "        crmask_new = np.logical_and(~final_crmask, cr_mask)\n",
        "        ncosmics = np.count_nonzero(crmask_new)\n",
        "\n",
        "        final_crmask = np.logical_or(final_crmask, cr_mask)\n",
        "        ncosmics_tot += ncosmics\n",
        "        if (ncosmics_tot>0):\n",
        "          log.info('Iteration {0}: Found {1} cosmic-ray pixels, '\n",
        "                  'Total: {2}'.format(iteration + 1, ncosmics, ncosmics_tot))\n",
        "    cr_image = 1*final_crmask*255\n",
        "    return cr_image,ncosmics_tot"
      ],
      "execution_count": null,
      "outputs": []
    },
    {
      "cell_type": "code",
      "metadata": {
        "id": "3UiyI9fPKYcB",
        "colab_type": "code",
        "colab": {}
      },
      "source": [
        " \"\"\"\n",
        "        Prints the cosmic ray mask and the corresponding image\n",
        "        Parameters\n",
        "        ----------\n",
        "        cr_image : numpy array\n",
        "               The cosmic ray mask for the input image (0-background pixel, 255-cosmic ray pixel)\n",
        "        data : numpy array\n",
        "               The original image as np array\n",
        "        \"\"\"\n",
        "        \n",
        "def plot_results(c,data):\n",
        "  plt.subplot(121)\n",
        "  plt.imshow(c,cmap='gray', vmin=0, vmax=255)\n",
        "  plt.title('Mask'),plt.xticks([]),plt.yticks([])\n",
        "  plt.subplot(122)\n",
        "  plt.imshow(data,cmap='gray', vmin=0, vmax=255)\n",
        "  plt.title('Image'),plt.xticks([]),plt.yticks([])\n",
        "  plt.show()"
      ],
      "execution_count": null,
      "outputs": []
    },
    {
      "cell_type": "code",
      "metadata": {
        "id": "OW7I14t_ckMd",
        "colab_type": "code",
        "colab": {}
      },
      "source": [
        "\"\"\"\n",
        "        Scans a directory from the the MESSENGER archive\n",
        "        Link : https://pdsimage2.wr.usgs.gov/archive/mess-e_v_h-mdis-2-edr-rawdata-v1.0/MSGRMDS_1001/DATA/\n",
        "\n",
        "        Segregates the positive images based on the parameter value of TARGET_NAME ( For e.g. : MERCURY )\n",
        "\n",
        "        Parameters\n",
        "        ----------\n",
        "        directory : str\n",
        "              Format : (year + '_' +  day of year) \n",
        "\"\"\"\n",
        "\n",
        "def scan_directory(directory):\n",
        "    url = 'https://pdsimage2.wr.usgs.gov/archive/mess-e_v_h-mdis-2-edr-rawdata-v1.0/MSGRMDS_1001/DATA/'+ directory\n",
        "    links = urllib2.urlopen(url).read()\n",
        "    soup = BeautifulSoup(links)\n",
        "    for image_links in soup.find_all('a',text=re.compile('.IMG')):\n",
        "        file = requests.get(url+ '/' + image_links['href'])\n",
        "        # print(image_links['href'])\n",
        "        img_data = bytearray()\n",
        "        header = []\n",
        "#         print(file.content)\n",
        "        # Test takes 2 values:\n",
        "        # 0-> Before end of header is reached\n",
        "        # 1-> End of header and start of image data\n",
        "        test = 0\n",
        "        for line in file.iter_lines():\n",
        "            # Read Image data\n",
        "            if test: \n",
        "                img_data.extend(line)\n",
        "\n",
        "            # End of header is reached\n",
        "            elif re.match(\"^END$\", line.decode('utf-8').strip()):\n",
        "                test = 1\n",
        "\n",
        "            # Read the Header\n",
        "            else:\n",
        "                header.append(line.decode('utf-8').strip())\n",
        "\n",
        "        file.close()\n",
        "#         print(header)\n",
        "        # Flag takes 3 values:\n",
        "        # 0-> before required data is encountered\n",
        "        # 1-> Reading required data\n",
        "        # 2-> after the required data is read\n",
        "        flag = 0\n",
        "        for line in header:\n",
        "            \n",
        "            if re.match('^TARGET_NAME',line):\n",
        "                target = line.split('\"')[1]\n",
        "                # print(target)\n",
        "\n",
        "            # Start Byte\n",
        "            if re.match('^\\^IMAGE',line):\n",
        "                n = line.split('=')\n",
        "                start_byte = int(n[1].strip())\n",
        "\n",
        "            # End of required data \n",
        "            if re.match('^END_OBJECT',line):\n",
        "                flag = 2\n",
        "\n",
        "            # Beginning of required data\n",
        "            if re.match('^OBJECT',line):\n",
        "                flag = 1\n",
        "\n",
        "            # Required data\n",
        "            if flag == 1:\n",
        "                if re.match('^LINES',line):\n",
        "                    # Extract no of rows\n",
        "                    a = line.split()\n",
        "                    row = int(a[2])\n",
        "\n",
        "                elif re.match('^LINE_SAMPLES',line):\n",
        "                    # Extract no of columns\n",
        "                    a = line.split()\n",
        "                    column = int(a[2])\n",
        "\n",
        "                elif re.match('^SAMPLE_BITS',line):\n",
        "                    # Extract the type of bit encoding\n",
        "                    a = line.split()\n",
        "                    typ = 'uint'+ a[2]\n",
        "\n",
        "        # print(row,column,typ)\n",
        "        #     print(len(img_data.decode()))\n",
        "\n",
        "        # b => bit width of data\n",
        "        b = int(a[2])\n",
        "\n",
        "        # Numpy array from byte array\n",
        "        a = np.frombuffer(img_data[len(img_data)%16:],dtype=typ)\n",
        "        #     print(a)\n",
        "\n",
        "        # s => No of extra bits in the image data = Total no of bits - rows*columns\n",
        "        s = (a.size/row -column)*row\n",
        "\n",
        "        if s<0:\n",
        "            print(\"S is negative:\",s)\n",
        "            continue\n",
        "\n",
        "        # t => Array after Trash data is removed\n",
        "        t = a[int(s):].copy()\n",
        "        # print(t.size)\n",
        "        t.resize((row,column))\n",
        "\n",
        "        # Reshaping the array\n",
        "        np.divide(t,float(2**(b-8)))\n",
        "        t = t.astype('uint8')\n",
        "\n",
        "        # Print image\n",
        "        image = Image.fromarray(t)\n",
        "    #     plt.imshow(im,cmap='gray',vmin=0,vmax=255)\n",
        "    #     plt.show()\n",
        "        data = asarray(image)\n",
        "        crmask,n_cosmic = lacosmic(data, contrast=5.0, cr_threshold=4.5, neighbor_threshold=0.3, \n",
        "                                         error=None, mask=None, background=None, effective_gain=1.0,\n",
        "                                         readnoise=6.5, maxiter=1, border_mode=u'mirror')\n",
        "        file = image_links['href'].split('.')[0]\n",
        "        save_dir = target\n",
        "        if not os.path.exists('drive/My Drive/CRISMIS/' + save_dir):\n",
        "            os.mkdir('drive/My Drive/CRISMIS/' + save_dir)\n",
        "        if (n_cosmic > 0):\n",
        "            # plot_results(crmask,image)\n",
        "            plt.imsave( 'drive/My Drive/CRISMIS/'+ save_dir +'/'+ file + '__'+ str(row) + '.png', t,cmap='gray')\n"
      ],
      "execution_count": null,
      "outputs": []
    },
    {
      "cell_type": "code",
      "metadata": {
        "id": "YO6GXIxJcvBm",
        "colab_type": "code",
        "colab": {}
      },
      "source": [
        "''' Dates included in our dataset '''\n",
        "\n",
        "dates = ['2011_154','2011_155','2011_156', '2011_157','2011_158','2011_159', '2011_160', '2011_161', '2011_162',\n",
        "        '2011_214',\n",
        "        '2011_216', '2011_217',\n",
        "        '2011_221',\n",
        "        '2011_249',\n",
        "        '2011_250',\n",
        "        '2011_251',\n",
        "        '2011_265','2011_266',\n",
        "        '2011_277','2011_278','2011_279',\n",
        "        '2011_287',\n",
        "        '2011_290',\n",
        "        '2011_307','2011_308','2011_309',\n",
        "        '2011_312','2011_313','2011_314',\n",
        "        '2011_321','2011_322',\n",
        "        '2011_323','2011_324','2011_325',\n",
        "        '2012_023','2012_024','2012_025','2012_026','2012_027','2012_028','2012_029','2012_030','2012_031','2012_032','2012_033','2012_034',\n",
        "        '2012_062'\n",
        "      ]"
      ],
      "execution_count": null,
      "outputs": []
    },
    {
      "cell_type": "code",
      "metadata": {
        "id": "wInNLQcJcyKw",
        "colab_type": "code",
        "colab": {
          "base_uri": "https://localhost:8080/",
          "height": 1000
        },
        "outputId": "2b7541e5-e33f-4bdf-a429-c404d5b0c09e"
      },
      "source": [
        "for date in dates:\n",
        "  since = time.time()\n",
        "  scan_directory(date)\n",
        "  time_elapsed = time.time() - since\n",
        "  print(\"Date\", date)\n",
        "  print('Scanning complete in {:.0f}m {:.0f}s'.format(\n",
        "      time_elapsed // 60, time_elapsed % 60))"
      ],
      "execution_count": null,
      "outputs": [
        {
          "output_type": "stream",
          "text": [
            "INFO: Iteration 1: Found 5 cosmic-ray pixels, Total: 5 [unknown]\n",
            "INFO: Iteration 1: Found 3 cosmic-ray pixels, Total: 3 [unknown]\n",
            "INFO: Iteration 1: Found 3 cosmic-ray pixels, Total: 3 [unknown]\n",
            "INFO: Iteration 1: Found 1 cosmic-ray pixels, Total: 1 [unknown]\n",
            "INFO: Iteration 1: Found 4 cosmic-ray pixels, Total: 4 [unknown]\n",
            "INFO: Iteration 1: Found 76 cosmic-ray pixels, Total: 76 [unknown]\n",
            "INFO: Iteration 1: Found 3 cosmic-ray pixels, Total: 3 [unknown]\n",
            "INFO: Iteration 1: Found 4 cosmic-ray pixels, Total: 4 [unknown]\n",
            "INFO: Iteration 1: Found 11 cosmic-ray pixels, Total: 11 [unknown]\n",
            "INFO: Iteration 1: Found 4 cosmic-ray pixels, Total: 4 [unknown]\n",
            "INFO: Iteration 1: Found 14 cosmic-ray pixels, Total: 14 [unknown]\n",
            "INFO: Iteration 1: Found 21 cosmic-ray pixels, Total: 21 [unknown]\n",
            "INFO: Iteration 1: Found 12 cosmic-ray pixels, Total: 12 [unknown]\n",
            "INFO: Iteration 1: Found 5 cosmic-ray pixels, Total: 5 [unknown]\n",
            "INFO: Iteration 1: Found 8 cosmic-ray pixels, Total: 8 [unknown]\n",
            "INFO: Iteration 1: Found 3 cosmic-ray pixels, Total: 3 [unknown]\n",
            "INFO: Iteration 1: Found 1 cosmic-ray pixels, Total: 1 [unknown]\n",
            "INFO: Iteration 1: Found 8 cosmic-ray pixels, Total: 8 [unknown]\n",
            "INFO: Iteration 1: Found 27 cosmic-ray pixels, Total: 27 [unknown]\n",
            "INFO: Iteration 1: Found 5 cosmic-ray pixels, Total: 5 [unknown]\n",
            "INFO: Iteration 1: Found 4 cosmic-ray pixels, Total: 4 [unknown]\n",
            "INFO: Iteration 1: Found 3 cosmic-ray pixels, Total: 3 [unknown]\n",
            "INFO: Iteration 1: Found 3 cosmic-ray pixels, Total: 3 [unknown]\n",
            "INFO: Iteration 1: Found 5 cosmic-ray pixels, Total: 5 [unknown]\n",
            "INFO: Iteration 1: Found 4 cosmic-ray pixels, Total: 4 [unknown]\n",
            "Date 2012_026\n",
            "Scanning complete in 17m 17s\n",
            "INFO: Iteration 1: Found 3 cosmic-ray pixels, Total: 3 [unknown]\n",
            "INFO: Iteration 1: Found 51 cosmic-ray pixels, Total: 51 [unknown]\n",
            "INFO: Iteration 1: Found 26 cosmic-ray pixels, Total: 26 [unknown]\n",
            "INFO: Iteration 1: Found 4 cosmic-ray pixels, Total: 4 [unknown]\n",
            "INFO: Iteration 1: Found 4 cosmic-ray pixels, Total: 4 [unknown]\n",
            "INFO: Iteration 1: Found 4 cosmic-ray pixels, Total: 4 [unknown]\n",
            "INFO: Iteration 1: Found 3 cosmic-ray pixels, Total: 3 [unknown]\n",
            "INFO: Iteration 1: Found 150 cosmic-ray pixels, Total: 150 [unknown]\n",
            "INFO: Iteration 1: Found 5 cosmic-ray pixels, Total: 5 [unknown]\n",
            "INFO: Iteration 1: Found 2 cosmic-ray pixels, Total: 2 [unknown]\n",
            "INFO: Iteration 1: Found 2 cosmic-ray pixels, Total: 2 [unknown]\n",
            "INFO: Iteration 1: Found 4 cosmic-ray pixels, Total: 4 [unknown]\n",
            "INFO: Iteration 1: Found 4 cosmic-ray pixels, Total: 4 [unknown]\n",
            "Date 2012_027\n",
            "Scanning complete in 7m 12s\n",
            "INFO: Iteration 1: Found 4 cosmic-ray pixels, Total: 4 [unknown]\n",
            "INFO: Iteration 1: Found 3 cosmic-ray pixels, Total: 3 [unknown]\n",
            "INFO: Iteration 1: Found 9 cosmic-ray pixels, Total: 9 [unknown]\n",
            "INFO: Iteration 1: Found 2 cosmic-ray pixels, Total: 2 [unknown]\n",
            "INFO: Iteration 1: Found 4 cosmic-ray pixels, Total: 4 [unknown]\n",
            "INFO: Iteration 1: Found 4 cosmic-ray pixels, Total: 4 [unknown]\n",
            "INFO: Iteration 1: Found 13 cosmic-ray pixels, Total: 13 [unknown]\n",
            "INFO: Iteration 1: Found 7 cosmic-ray pixels, Total: 7 [unknown]\n",
            "INFO: Iteration 1: Found 8 cosmic-ray pixels, Total: 8 [unknown]\n",
            "INFO: Iteration 1: Found 11 cosmic-ray pixels, Total: 11 [unknown]\n",
            "INFO: Iteration 1: Found 1 cosmic-ray pixels, Total: 1 [unknown]\n",
            "INFO: Iteration 1: Found 3 cosmic-ray pixels, Total: 3 [unknown]\n",
            "INFO: Iteration 1: Found 8 cosmic-ray pixels, Total: 8 [unknown]\n",
            "INFO: Iteration 1: Found 4 cosmic-ray pixels, Total: 4 [unknown]\n",
            "INFO: Iteration 1: Found 4 cosmic-ray pixels, Total: 4 [unknown]\n",
            "INFO: Iteration 1: Found 4 cosmic-ray pixels, Total: 4 [unknown]\n",
            "Date 2012_028\n",
            "Scanning complete in 6m 18s\n",
            "INFO: Iteration 1: Found 2 cosmic-ray pixels, Total: 2 [unknown]\n",
            "INFO: Iteration 1: Found 3 cosmic-ray pixels, Total: 3 [unknown]\n",
            "INFO: Iteration 1: Found 2 cosmic-ray pixels, Total: 2 [unknown]\n",
            "INFO: Iteration 1: Found 5 cosmic-ray pixels, Total: 5 [unknown]\n",
            "INFO: Iteration 1: Found 3 cosmic-ray pixels, Total: 3 [unknown]\n",
            "INFO: Iteration 1: Found 5 cosmic-ray pixels, Total: 5 [unknown]\n",
            "Date 2012_029\n",
            "Scanning complete in 2m 11s\n",
            "INFO: Iteration 1: Found 4 cosmic-ray pixels, Total: 4 [unknown]\n",
            "INFO: Iteration 1: Found 36 cosmic-ray pixels, Total: 36 [unknown]\n",
            "INFO: Iteration 1: Found 5 cosmic-ray pixels, Total: 5 [unknown]\n",
            "INFO: Iteration 1: Found 4 cosmic-ray pixels, Total: 4 [unknown]\n",
            "INFO: Iteration 1: Found 3 cosmic-ray pixels, Total: 3 [unknown]\n",
            "INFO: Iteration 1: Found 3 cosmic-ray pixels, Total: 3 [unknown]\n",
            "INFO: Iteration 1: Found 8 cosmic-ray pixels, Total: 8 [unknown]\n",
            "INFO: Iteration 1: Found 17 cosmic-ray pixels, Total: 17 [unknown]\n",
            "INFO: Iteration 1: Found 1 cosmic-ray pixels, Total: 1 [unknown]\n",
            "INFO: Iteration 1: Found 5 cosmic-ray pixels, Total: 5 [unknown]\n",
            "INFO: Iteration 1: Found 6 cosmic-ray pixels, Total: 6 [unknown]\n",
            "INFO: Iteration 1: Found 1 cosmic-ray pixels, Total: 1 [unknown]\n",
            "INFO: Iteration 1: Found 6 cosmic-ray pixels, Total: 6 [unknown]\n",
            "INFO: Iteration 1: Found 20 cosmic-ray pixels, Total: 20 [unknown]\n",
            "INFO: Iteration 1: Found 7 cosmic-ray pixels, Total: 7 [unknown]\n",
            "INFO: Iteration 1: Found 2 cosmic-ray pixels, Total: 2 [unknown]\n",
            "INFO: Iteration 1: Found 5 cosmic-ray pixels, Total: 5 [unknown]\n",
            "INFO: Iteration 1: Found 28 cosmic-ray pixels, Total: 28 [unknown]\n",
            "INFO: Iteration 1: Found 36 cosmic-ray pixels, Total: 36 [unknown]\n",
            "INFO: Iteration 1: Found 5 cosmic-ray pixels, Total: 5 [unknown]\n",
            "INFO: Iteration 1: Found 14 cosmic-ray pixels, Total: 14 [unknown]\n",
            "INFO: Iteration 1: Found 2 cosmic-ray pixels, Total: 2 [unknown]\n",
            "INFO: Iteration 1: Found 6 cosmic-ray pixels, Total: 6 [unknown]\n",
            "INFO: Iteration 1: Found 3 cosmic-ray pixels, Total: 3 [unknown]\n",
            "Date 2012_030\n",
            "Scanning complete in 6m 30s\n",
            "INFO: Iteration 1: Found 3 cosmic-ray pixels, Total: 3 [unknown]\n"
          ],
          "name": "stdout"
        }
      ]
    },
    {
      "cell_type": "markdown",
      "metadata": {
        "id": "Llw0Hhki9hph",
        "colab_type": "text"
      },
      "source": [
        "### Test algorithm predictions"
      ]
    },
    {
      "cell_type": "code",
      "metadata": {
        "id": "8MpOrRKFdabF",
        "colab_type": "code",
        "colab": {}
      },
      "source": [
        "\"\"\"\n",
        "        Runs the algorithm on some test images and shows predictions\n",
        "\n",
        "        Parameters\n",
        "        ----------\n",
        "        image_dir : str\n",
        "              Path to the directory containing some sample images ( in .png/.jpg or any common format recognized by Pillow )\n",
        "\"\"\"\n",
        "def test_lacosmic(image_dir):\n",
        "  i = 0\n",
        "  for image in os.listdir(image_dir):\n",
        "      image = Image.open(image_dir + '/' + image)\n",
        "      data = asarray(image)[:,:,1]\n",
        "      print(\"Index\",i)\n",
        "      i+=1\n",
        "      crmask,c_count = lacosmic(data, contrast=5.0, cr_threshold=4.5, neighbor_threshold=0.3, \n",
        "                                      error=None, mask=None, background=None, effective_gain=1.0,\n",
        "                                      readnoise=6.5, maxiter=1, border_mode=u'mirror')\n",
        "      plot_results(crmask,data)"
      ],
      "execution_count": null,
      "outputs": []
    }
  ]
}