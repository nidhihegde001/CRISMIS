{
  "nbformat": 4,
  "nbformat_minor": 0,
  "metadata": {
    "colab": {
      "name": "classifier_Net.ipynb",
      "provenance": [],
      "include_colab_link": true
    },
    "kernelspec": {
      "display_name": "Python 3",
      "language": "python",
      "name": "python3"
    },
    "language_info": {
      "codemirror_mode": {
        "name": "ipython",
        "version": 3
      },
      "file_extension": ".py",
      "mimetype": "text/x-python",
      "name": "python",
      "nbconvert_exporter": "python",
      "pygments_lexer": "ipython3",
      "version": "3.7.6"
    }
  },
  "cells": [
    {
      "cell_type": "markdown",
      "metadata": {
        "id": "view-in-github",
        "colab_type": "text"
      },
      "source": [
        "<a href=\"https://colab.research.google.com/github/nidhihegde001/CRISMIS/blob/master/classifier_Net.ipynb\" target=\"_parent\"><img src=\"https://colab.research.google.com/assets/colab-badge.svg\" alt=\"Open In Colab\"/></a>"
      ]
    },
    {
      "cell_type": "code",
      "metadata": {
        "colab_type": "code",
        "id": "tWmg3hldYpfF",
        "colab": {}
      },
      "source": [
        "import torch\n",
        "import torchvision\n",
        "import torchvision.transforms as transforms"
      ],
      "execution_count": null,
      "outputs": []
    },
    {
      "cell_type": "code",
      "metadata": {
        "id": "INAOG-riYJz0",
        "colab_type": "code",
        "colab": {}
      },
      "source": [
        "import numpy as np\n",
        "import matplotlib.pyplot as plt\n",
        "import itertools\n",
        "import numpy as np"
      ],
      "execution_count": null,
      "outputs": []
    },
    {
      "cell_type": "code",
      "metadata": {
        "id": "EeQUd2shYJz2",
        "colab_type": "code",
        "colab": {}
      },
      "source": [
        "import workers"
      ],
      "execution_count": null,
      "outputs": []
    },
    {
      "cell_type": "code",
      "metadata": {
        "id": "W7gEoJD8YJz5",
        "colab_type": "code",
        "colab": {}
      },
      "source": [
        "device = torch.device(\"cuda:0\" if torch.cuda.is_available() else \"cpu\")"
      ],
      "execution_count": null,
      "outputs": []
    },
    {
      "cell_type": "code",
      "metadata": {
        "id": "QYEvPs_HYJz9",
        "colab_type": "code",
        "colab": {}
      },
      "source": [
        "#increasing the default plot size\n",
        "fig_size = plt.rcParams[\"figure.figsize\"]\n",
        "fig_size[0] = 8\n",
        "fig_size[1] = 5\n",
        "plt.rcParams[\"figure.figsize\"] = fig_size"
      ],
      "execution_count": null,
      "outputs": []
    },
    {
      "cell_type": "code",
      "metadata": {
        "colab_type": "code",
        "id": "_yKkPjQcH-0r",
        "colab": {}
      },
      "source": [
        "transform = transforms.Compose(\n",
        "    [transforms.Resize((32,32)),\n",
        "#      torchvision.transforms.RandomHorizontalFlip(p=0.5),\n",
        "#      torchvision.transforms.RandomVerticalFlip(p=0.5)\n",
        "     transforms.ToTensor(),\n",
        "     transforms.Normalize((0.5, 0.5, 0.5), (0.5, 0.5, 0.5))\n",
        "    ])"
      ],
      "execution_count": null,
      "outputs": []
    },
    {
      "cell_type": "code",
      "metadata": {
        "id": "2tY9r_7mYJ0H",
        "colab_type": "code",
        "colab": {}
      },
      "source": [
        "classes = ('Crater', 'Mixed' , 'Space', 'Spots', 'Streaks') # Labels 0-4"
      ],
      "execution_count": null,
      "outputs": []
    },
    {
      "cell_type": "code",
      "metadata": {
        "colab_type": "code",
        "id": "6Tl5T9XqH-7K",
        "colab": {}
      },
      "source": [
        "if __name__ == '__main__':\n",
        "    dataset = torchvision.datasets.ImageFolder(root='data', transform=transform)"
      ],
      "execution_count": null,
      "outputs": []
    },
    {
      "cell_type": "code",
      "metadata": {
        "id": "0nF-U9GhYJ0M",
        "colab_type": "code",
        "colab": {},
        "outputId": "517b4d70-6e11-4d8d-a912-3a23b76bfc1c"
      },
      "source": [
        "len(dataset)"
      ],
      "execution_count": null,
      "outputs": [
        {
          "output_type": "execute_result",
          "data": {
            "text/plain": [
              "1452"
            ]
          },
          "metadata": {
            "tags": []
          },
          "execution_count": 10
        }
      ]
    },
    {
      "cell_type": "code",
      "metadata": {
        "id": "V4QBwNZMYJ0P",
        "colab_type": "code",
        "colab": {}
      },
      "source": [
        "train_size = int(0.9 * len(dataset))\n",
        "test_size = len(dataset) - train_size\n",
        "train_dataset, test_dataset = torch.utils.data.random_split(dataset, [train_size, test_size])"
      ],
      "execution_count": null,
      "outputs": []
    },
    {
      "cell_type": "code",
      "metadata": {
        "id": "xDAjUfuLYJ0R",
        "colab_type": "code",
        "colab": {}
      },
      "source": [
        "trainloader = torch.utils.data.DataLoader(train_dataset, batch_size=4,\n",
        "                                          shuffle=True, num_workers=0)"
      ],
      "execution_count": null,
      "outputs": []
    },
    {
      "cell_type": "code",
      "metadata": {
        "id": "VodVmKOqYJ0T",
        "colab_type": "code",
        "colab": {},
        "outputId": "ab313a3c-8e65-4cc6-ac8c-5a05166e298f"
      },
      "source": [
        "for a,b in trainloader:\n",
        "    print(a.shape,b.shape)\n",
        "    break"
      ],
      "execution_count": null,
      "outputs": [
        {
          "output_type": "stream",
          "text": [
            "torch.Size([4, 3, 32, 32]) torch.Size([4])\n"
          ],
          "name": "stdout"
        }
      ]
    },
    {
      "cell_type": "code",
      "metadata": {
        "colab_type": "code",
        "id": "l2wa-wrzH_BY",
        "colab": {},
        "outputId": "14d20276-02ec-4a9f-c8a4-4ad9556b5d5a"
      },
      "source": [
        "# functions to show an image\n",
        "def imshow(img):\n",
        "    img = img / 2 + 0.5     # unnormalize\n",
        "    npimg = img.numpy()\n",
        "    plt.imshow(np.transpose(npimg, (1, 2, 0)))\n",
        "    plt.show()\n",
        "\n",
        "\n",
        "# get some random training images\n",
        "dataiter = iter(trainloader)\n",
        "images, labels = dataiter.next()\n",
        "\n",
        "# show images\n",
        "imshow(torchvision.utils.make_grid(images))\n",
        "# print labels\n",
        "print(' '.join('  %5s          ' % classes[labels[j]] for j in range(4)))"
      ],
      "execution_count": null,
      "outputs": [
        {
          "output_type": "display_data",
          "data": {
            "image/png": "[encoded data removed]",
            "text/plain": [
              "<Figure size 576x360 with 1 Axes>"
            ]
          },
          "metadata": {
            "tags": [],
            "needs_background": "light"
          }
        },
        {
          "output_type": "stream",
          "text": [
            "  Spots             Crater             Spots             Spots          \n"
          ],
          "name": "stdout"
        }
      ]
    },
    {
      "cell_type": "code",
      "metadata": {
        "colab_type": "code",
        "id": "RNvcs9jcH_Hs",
        "colab": {}
      },
      "source": [
        "import torch.nn as nn\n",
        "import torch.nn.functional as F\n",
        "import torch.optim as optim"
      ],
      "execution_count": null,
      "outputs": []
    },
    {
      "cell_type": "code",
      "metadata": {
        "colab_type": "code",
        "id": "nAAkdZ9HH_LQ",
        "colab": {}
      },
      "source": [
        "class Net(nn.Module):\n",
        "    def __init__(self):\n",
        "        super(Net, self).__init__()\n",
        "        self.conv1 = nn.Conv2d(3, 6, 5)\n",
        "        self.pool = nn.MaxPool2d(2, 2)\n",
        "        self.conv2 = nn.Conv2d(6, 16, 5)\n",
        "        self.fc1 = nn.Linear(16 *5*5, 120)\n",
        "        self.fc2 = nn.Linear(120, 84)\n",
        "        self.fc3 = nn.Linear(84, 10)\n",
        "        self.fc4 = nn.Linear(10, 5)\n",
        "        self.softmax = nn.Softmax(dim=1)\n",
        "\n",
        "    def forward(self, x):\n",
        "        x = self.pool(F.relu(self.conv1(x)))\n",
        "        x = self.pool(F.relu(self.conv2(x)))\n",
        "        x = x.view(-1, 16 *5*5)\n",
        "        x = F.relu(self.fc1(x))\n",
        "        x = F.relu(self.fc2(x))\n",
        "        x = F.relu(self.fc3(x))\n",
        "        x = self.fc4(x)\n",
        "        x = self.softmax(x)\n",
        "        return x\n"
      ],
      "execution_count": null,
      "outputs": []
    },
    {
      "cell_type": "code",
      "metadata": {
        "id": "KP4jdVo2YJ0c",
        "colab_type": "code",
        "colab": {},
        "outputId": "b9cac1ff-8e8a-4a7b-c1b2-32999bb5ab0b"
      },
      "source": [
        "print(len(trainloader))"
      ],
      "execution_count": null,
      "outputs": [
        {
          "output_type": "stream",
          "text": [
            "327\n"
          ],
          "name": "stdout"
        }
      ]
    },
    {
      "cell_type": "markdown",
      "metadata": {
        "id": "6PICcMH_YJ0e",
        "colab_type": "text"
      },
      "source": [
        "### Exp 1"
      ]
    },
    {
      "cell_type": "code",
      "metadata": {
        "id": "V3Px0FsoYJ0f",
        "colab_type": "code",
        "colab": {}
      },
      "source": [
        "net = Net()\n",
        "criterion = nn.CrossEntropyLoss()\n",
        "optimizer = optim.SGD(net.parameters(), lr=0.001, momentum=0.9)"
      ],
      "execution_count": null,
      "outputs": []
    },
    {
      "cell_type": "code",
      "metadata": {
        "colab_type": "code",
        "id": "1-Xg1d0EH_RP",
        "colab": {}
      },
      "source": [
        "# # Exp 1 : Trained on CPU with batch size 4\n",
        "for epoch in range(500):  # loop over the dataset multiple times\n",
        "    running_loss = 0.0\n",
        "    for i, data in enumerate(trainloader, 0):\n",
        "        # get the inputs; data is a list of [inputs, labels]\n",
        "        inputs, labels = data\n",
        "#         inputs, labels = inputs.to(device), labels.to(device)\n",
        "        # zero the parameter gradients\n",
        "        optimizer.zero_grad()\n",
        "\n",
        "        # forward + backward + optimize\n",
        "        outputs = net(inputs)\n",
        "        loss = criterion(outputs, labels)\n",
        "        loss.backward()\n",
        "        optimizer.step()\n",
        "\n",
        "        # print statistics\n",
        "        running_loss += loss.item()\n",
        "        if i % 100 == 99:    # print every 2000 mini-batches\n",
        "            print('[%d, %5d] loss: %.3f' %\n",
        "                  (epoch + 1, i + 1, running_loss / 2000))\n",
        "            running_loss = 0.0\n",
        "\n",
        "print('Finished Training')"
      ],
      "execution_count": null,
      "outputs": []
    },
    {
      "cell_type": "code",
      "metadata": {
        "id": "umgXPuptYJ0k",
        "colab_type": "code",
        "colab": {}
      },
      "source": [
        "torch.save(net.state_dict(), './classifier.pth')"
      ],
      "execution_count": null,
      "outputs": []
    },
    {
      "cell_type": "markdown",
      "metadata": {
        "id": "zwNwlF25YJ0m",
        "colab_type": "text"
      },
      "source": [
        " ### Exp 2"
      ]
    },
    {
      "cell_type": "code",
      "metadata": {
        "id": "OZ2FSCpnYJ0n",
        "colab_type": "code",
        "colab": {}
      },
      "source": [
        "net = Net().to(device)\n",
        "criterion = nn.CrossEntropyLoss()\n",
        "optimizer = optim.SGD(net.parameters(), lr=0.001, momentum=0.9)"
      ],
      "execution_count": null,
      "outputs": []
    },
    {
      "cell_type": "code",
      "metadata": {
        "id": "AUA__gAKYJ0r",
        "colab_type": "code",
        "colab": {},
        "outputId": "1885afa5-9683-497f-a81a-ba9f5cbb8b5c"
      },
      "source": [
        "# Exp 2 : Trained on GPU with batch size 8\n",
        "for epoch in range(500):  # loop over the dataset multiple times\n",
        "    running_loss = 0.0\n",
        "    for i, data in enumerate(trainloader, 0):\n",
        "        # get the inputs; data is a list of [inputs, labels]\n",
        "        inputs, labels = data\n",
        "        inputs, labels = inputs.to(device), labels.to(device)\n",
        "        # zero the parameter gradients\n",
        "        optimizer.zero_grad()\n",
        "        \n",
        "        # forward + backward + optimize\n",
        "        outputs = net(inputs)\n",
        "        loss = criterion(outputs, labels)\n",
        "        loss.backward()\n",
        "        optimizer.step()\n",
        "\n",
        "        # print statistics\n",
        "        running_loss += loss.item()\n",
        "        if i % 100 == 99:    # print every 2000 mini-batches\n",
        "            print('[%d, %5d] loss: %.3f' %\n",
        "                  (epoch + 1, i + 1, running_loss / 2000))\n",
        "            running_loss = 0.0\n",
        "\n",
        "print('Finished Training')"
      ],
      "execution_count": null,
      "outputs": [
        {
          "output_type": "stream",
          "text": [
            "[1,   100] loss: 0.080\n",
            "[2,   100] loss: 0.080\n",
            "[3,   100] loss: 0.080\n",
            "[4,   100] loss: 0.080\n",
            "[5,   100] loss: 0.080\n",
            "[6,   100] loss: 0.080\n",
            "[7,   100] loss: 0.080\n",
            "[8,   100] loss: 0.080\n",
            "[9,   100] loss: 0.079\n",
            "[10,   100] loss: 0.079\n",
            "[11,   100] loss: 0.079\n",
            "[12,   100] loss: 0.078\n",
            "[13,   100] loss: 0.078\n",
            "[14,   100] loss: 0.079\n",
            "[15,   100] loss: 0.078\n",
            "[16,   100] loss: 0.078\n",
            "[17,   100] loss: 0.078\n",
            "[18,   100] loss: 0.078\n",
            "[19,   100] loss: 0.078\n",
            "[20,   100] loss: 0.078\n",
            "[21,   100] loss: 0.079\n",
            "[22,   100] loss: 0.078\n",
            "[23,   100] loss: 0.077\n",
            "[24,   100] loss: 0.078\n",
            "[25,   100] loss: 0.078\n",
            "[26,   100] loss: 0.078\n",
            "[27,   100] loss: 0.078\n",
            "[28,   100] loss: 0.078\n",
            "[29,   100] loss: 0.078\n",
            "[30,   100] loss: 0.078\n",
            "[31,   100] loss: 0.079\n",
            "[32,   100] loss: 0.078\n",
            "[33,   100] loss: 0.078\n",
            "[34,   100] loss: 0.079\n",
            "[35,   100] loss: 0.078\n",
            "[36,   100] loss: 0.078\n",
            "[37,   100] loss: 0.078\n",
            "[38,   100] loss: 0.079\n",
            "[39,   100] loss: 0.078\n",
            "[40,   100] loss: 0.078\n",
            "[41,   100] loss: 0.078\n",
            "[42,   100] loss: 0.078\n",
            "[43,   100] loss: 0.078\n",
            "[44,   100] loss: 0.078\n",
            "[45,   100] loss: 0.078\n",
            "[46,   100] loss: 0.078\n",
            "[47,   100] loss: 0.078\n",
            "[48,   100] loss: 0.078\n",
            "[49,   100] loss: 0.078\n",
            "[50,   100] loss: 0.079\n",
            "[51,   100] loss: 0.079\n",
            "[52,   100] loss: 0.078\n",
            "[53,   100] loss: 0.078\n",
            "[54,   100] loss: 0.078\n",
            "[55,   100] loss: 0.079\n",
            "[56,   100] loss: 0.077\n",
            "[57,   100] loss: 0.078\n",
            "[58,   100] loss: 0.077\n",
            "[59,   100] loss: 0.078\n",
            "[60,   100] loss: 0.078\n",
            "[61,   100] loss: 0.078\n",
            "[62,   100] loss: 0.078\n",
            "[63,   100] loss: 0.078\n",
            "[64,   100] loss: 0.078\n",
            "[65,   100] loss: 0.078\n",
            "[66,   100] loss: 0.078\n",
            "[67,   100] loss: 0.078\n",
            "[68,   100] loss: 0.078\n",
            "[69,   100] loss: 0.078\n",
            "[70,   100] loss: 0.078\n",
            "[71,   100] loss: 0.078\n",
            "[72,   100] loss: 0.078\n",
            "[73,   100] loss: 0.078\n",
            "[74,   100] loss: 0.078\n",
            "[75,   100] loss: 0.078\n",
            "[76,   100] loss: 0.078\n",
            "[77,   100] loss: 0.078\n",
            "[78,   100] loss: 0.078\n",
            "[79,   100] loss: 0.078\n",
            "[80,   100] loss: 0.078\n",
            "[81,   100] loss: 0.078\n",
            "[82,   100] loss: 0.078\n",
            "[83,   100] loss: 0.078\n",
            "[84,   100] loss: 0.078\n",
            "[85,   100] loss: 0.078\n",
            "[86,   100] loss: 0.078\n",
            "[87,   100] loss: 0.078\n",
            "[88,   100] loss: 0.078\n",
            "[89,   100] loss: 0.078\n",
            "[90,   100] loss: 0.078\n",
            "[91,   100] loss: 0.079\n",
            "[92,   100] loss: 0.078\n",
            "[93,   100] loss: 0.078\n",
            "[94,   100] loss: 0.078\n",
            "[95,   100] loss: 0.078\n",
            "[96,   100] loss: 0.078\n",
            "[97,   100] loss: 0.078\n",
            "[98,   100] loss: 0.078\n",
            "[99,   100] loss: 0.077\n",
            "[100,   100] loss: 0.078\n",
            "[101,   100] loss: 0.078\n",
            "[102,   100] loss: 0.078\n",
            "[103,   100] loss: 0.078\n",
            "[104,   100] loss: 0.078\n",
            "[105,   100] loss: 0.078\n",
            "[106,   100] loss: 0.077\n",
            "[107,   100] loss: 0.078\n",
            "[108,   100] loss: 0.078\n",
            "[109,   100] loss: 0.078\n",
            "[110,   100] loss: 0.078\n",
            "[111,   100] loss: 0.078\n",
            "[112,   100] loss: 0.078\n",
            "[113,   100] loss: 0.078\n",
            "[114,   100] loss: 0.078\n",
            "[115,   100] loss: 0.077\n",
            "[116,   100] loss: 0.078\n",
            "[117,   100] loss: 0.077\n",
            "[118,   100] loss: 0.078\n",
            "[119,   100] loss: 0.077\n",
            "[120,   100] loss: 0.078\n",
            "[121,   100] loss: 0.077\n",
            "[122,   100] loss: 0.077\n",
            "[123,   100] loss: 0.078\n",
            "[124,   100] loss: 0.078\n",
            "[125,   100] loss: 0.077\n",
            "[126,   100] loss: 0.077\n",
            "[127,   100] loss: 0.077\n",
            "[128,   100] loss: 0.078\n",
            "[129,   100] loss: 0.077\n",
            "[130,   100] loss: 0.077\n",
            "[131,   100] loss: 0.078\n",
            "[132,   100] loss: 0.077\n",
            "[133,   100] loss: 0.077\n",
            "[134,   100] loss: 0.076\n",
            "[135,   100] loss: 0.077\n",
            "[136,   100] loss: 0.076\n",
            "[137,   100] loss: 0.076\n",
            "[138,   100] loss: 0.076\n",
            "[139,   100] loss: 0.075\n",
            "[140,   100] loss: 0.075\n",
            "[141,   100] loss: 0.075\n",
            "[142,   100] loss: 0.075\n",
            "[143,   100] loss: 0.075\n",
            "[144,   100] loss: 0.075\n",
            "[145,   100] loss: 0.075\n",
            "[146,   100] loss: 0.075\n",
            "[147,   100] loss: 0.074\n",
            "[148,   100] loss: 0.075\n",
            "[149,   100] loss: 0.073\n",
            "[150,   100] loss: 0.074\n",
            "[151,   100] loss: 0.075\n",
            "[152,   100] loss: 0.074\n",
            "[153,   100] loss: 0.073\n",
            "[154,   100] loss: 0.074\n",
            "[155,   100] loss: 0.074\n",
            "[156,   100] loss: 0.073\n",
            "[157,   100] loss: 0.073\n",
            "[158,   100] loss: 0.073\n",
            "[159,   100] loss: 0.074\n",
            "[160,   100] loss: 0.073\n",
            "[161,   100] loss: 0.073\n",
            "[162,   100] loss: 0.073\n",
            "[163,   100] loss: 0.072\n",
            "[164,   100] loss: 0.072\n",
            "[165,   100] loss: 0.072\n",
            "[166,   100] loss: 0.071\n",
            "[167,   100] loss: 0.070\n",
            "[168,   100] loss: 0.071\n",
            "[169,   100] loss: 0.070\n",
            "[170,   100] loss: 0.068\n",
            "[171,   100] loss: 0.068\n",
            "[172,   100] loss: 0.068\n",
            "[173,   100] loss: 0.069\n",
            "[174,   100] loss: 0.067\n",
            "[175,   100] loss: 0.068\n",
            "[176,   100] loss: 0.067\n",
            "[177,   100] loss: 0.067\n",
            "[178,   100] loss: 0.067\n",
            "[179,   100] loss: 0.068\n",
            "[180,   100] loss: 0.067\n",
            "[181,   100] loss: 0.067\n",
            "[182,   100] loss: 0.066\n",
            "[183,   100] loss: 0.066\n",
            "[184,   100] loss: 0.067\n",
            "[185,   100] loss: 0.066\n",
            "[186,   100] loss: 0.066\n",
            "[187,   100] loss: 0.066\n",
            "[188,   100] loss: 0.065\n",
            "[189,   100] loss: 0.066\n",
            "[190,   100] loss: 0.064\n",
            "[191,   100] loss: 0.065\n",
            "[192,   100] loss: 0.065\n",
            "[193,   100] loss: 0.063\n",
            "[194,   100] loss: 0.065\n",
            "[195,   100] loss: 0.063\n",
            "[196,   100] loss: 0.063\n",
            "[197,   100] loss: 0.063\n",
            "[198,   100] loss: 0.063\n",
            "[199,   100] loss: 0.064\n",
            "[200,   100] loss: 0.063\n",
            "[201,   100] loss: 0.062\n",
            "[202,   100] loss: 0.062\n",
            "[203,   100] loss: 0.061\n",
            "[204,   100] loss: 0.061\n",
            "[205,   100] loss: 0.062\n",
            "[206,   100] loss: 0.061\n",
            "[207,   100] loss: 0.062\n",
            "[208,   100] loss: 0.062\n",
            "[209,   100] loss: 0.062\n",
            "[210,   100] loss: 0.060\n",
            "[211,   100] loss: 0.061\n",
            "[212,   100] loss: 0.061\n",
            "[213,   100] loss: 0.061\n",
            "[214,   100] loss: 0.061\n",
            "[215,   100] loss: 0.061\n",
            "[216,   100] loss: 0.060\n",
            "[217,   100] loss: 0.060\n",
            "[218,   100] loss: 0.060\n",
            "[219,   100] loss: 0.061\n",
            "[220,   100] loss: 0.060\n",
            "[221,   100] loss: 0.060\n",
            "[222,   100] loss: 0.061\n",
            "[223,   100] loss: 0.060\n",
            "[224,   100] loss: 0.062\n",
            "[225,   100] loss: 0.060\n",
            "[226,   100] loss: 0.059\n",
            "[227,   100] loss: 0.059\n",
            "[228,   100] loss: 0.060\n",
            "[229,   100] loss: 0.059\n",
            "[230,   100] loss: 0.059\n",
            "[231,   100] loss: 0.060\n",
            "[232,   100] loss: 0.059\n",
            "[233,   100] loss: 0.059\n",
            "[234,   100] loss: 0.060\n",
            "[235,   100] loss: 0.061\n",
            "[236,   100] loss: 0.060\n",
            "[237,   100] loss: 0.060\n",
            "[238,   100] loss: 0.060\n",
            "[239,   100] loss: 0.059\n",
            "[240,   100] loss: 0.059\n",
            "[241,   100] loss: 0.059\n",
            "[242,   100] loss: 0.062\n",
            "[243,   100] loss: 0.059\n",
            "[244,   100] loss: 0.059\n",
            "[245,   100] loss: 0.059\n",
            "[246,   100] loss: 0.058\n",
            "[247,   100] loss: 0.059\n",
            "[248,   100] loss: 0.060\n",
            "[249,   100] loss: 0.059\n",
            "[250,   100] loss: 0.059\n",
            "[251,   100] loss: 0.059\n",
            "[252,   100] loss: 0.059\n",
            "[253,   100] loss: 0.059\n",
            "[254,   100] loss: 0.059\n",
            "[255,   100] loss: 0.060\n",
            "[256,   100] loss: 0.059\n",
            "[257,   100] loss: 0.059\n",
            "[258,   100] loss: 0.059\n",
            "[259,   100] loss: 0.059\n",
            "[260,   100] loss: 0.058\n",
            "[261,   100] loss: 0.058\n",
            "[262,   100] loss: 0.059\n",
            "[263,   100] loss: 0.058\n",
            "[264,   100] loss: 0.059\n",
            "[265,   100] loss: 0.059\n",
            "[266,   100] loss: 0.058\n",
            "[267,   100] loss: 0.058\n",
            "[268,   100] loss: 0.058\n",
            "[269,   100] loss: 0.058\n",
            "[270,   100] loss: 0.059\n",
            "[271,   100] loss: 0.059\n",
            "[272,   100] loss: 0.058\n",
            "[273,   100] loss: 0.058\n",
            "[274,   100] loss: 0.060\n",
            "[275,   100] loss: 0.060\n",
            "[276,   100] loss: 0.058\n",
            "[277,   100] loss: 0.058\n",
            "[278,   100] loss: 0.060\n",
            "[279,   100] loss: 0.059\n",
            "[280,   100] loss: 0.058\n",
            "[281,   100] loss: 0.058\n",
            "[282,   100] loss: 0.059\n",
            "[283,   100] loss: 0.057\n",
            "[284,   100] loss: 0.059\n",
            "[285,   100] loss: 0.059\n",
            "[286,   100] loss: 0.059\n",
            "[287,   100] loss: 0.058\n",
            "[288,   100] loss: 0.058\n",
            "[289,   100] loss: 0.059\n",
            "[290,   100] loss: 0.057\n",
            "[291,   100] loss: 0.059\n",
            "[292,   100] loss: 0.059\n",
            "[293,   100] loss: 0.059\n",
            "[294,   100] loss: 0.059\n",
            "[295,   100] loss: 0.059\n",
            "[296,   100] loss: 0.058\n",
            "[297,   100] loss: 0.058\n",
            "[298,   100] loss: 0.058\n",
            "[299,   100] loss: 0.059\n",
            "[300,   100] loss: 0.059\n",
            "[301,   100] loss: 0.058\n",
            "[302,   100] loss: 0.058\n",
            "[303,   100] loss: 0.058\n",
            "[304,   100] loss: 0.058\n",
            "[305,   100] loss: 0.058\n",
            "[306,   100] loss: 0.059\n",
            "[307,   100] loss: 0.057\n",
            "[308,   100] loss: 0.058\n",
            "[309,   100] loss: 0.058\n",
            "[310,   100] loss: 0.058\n",
            "[311,   100] loss: 0.057\n",
            "[312,   100] loss: 0.058\n",
            "[313,   100] loss: 0.057\n",
            "[314,   100] loss: 0.059\n",
            "[315,   100] loss: 0.058\n",
            "[316,   100] loss: 0.057\n",
            "[317,   100] loss: 0.057\n",
            "[318,   100] loss: 0.057\n",
            "[319,   100] loss: 0.058\n",
            "[320,   100] loss: 0.057\n",
            "[321,   100] loss: 0.058\n",
            "[322,   100] loss: 0.057\n",
            "[323,   100] loss: 0.058\n",
            "[324,   100] loss: 0.058\n",
            "[325,   100] loss: 0.057\n",
            "[326,   100] loss: 0.058\n",
            "[327,   100] loss: 0.057\n",
            "[328,   100] loss: 0.057\n",
            "[329,   100] loss: 0.057\n",
            "[330,   100] loss: 0.058\n",
            "[331,   100] loss: 0.058\n",
            "[332,   100] loss: 0.057\n",
            "[333,   100] loss: 0.057\n"
          ],
          "name": "stdout"
        },
        {
          "output_type": "stream",
          "text": [
            "[334,   100] loss: 0.058\n",
            "[335,   100] loss: 0.058\n",
            "[336,   100] loss: 0.058\n",
            "[337,   100] loss: 0.058\n",
            "[338,   100] loss: 0.058\n",
            "[339,   100] loss: 0.056\n",
            "[340,   100] loss: 0.057\n",
            "[341,   100] loss: 0.058\n",
            "[342,   100] loss: 0.058\n",
            "[343,   100] loss: 0.057\n",
            "[344,   100] loss: 0.058\n",
            "[345,   100] loss: 0.057\n",
            "[346,   100] loss: 0.058\n",
            "[347,   100] loss: 0.058\n",
            "[348,   100] loss: 0.057\n",
            "[349,   100] loss: 0.058\n",
            "[350,   100] loss: 0.057\n",
            "[351,   100] loss: 0.057\n",
            "[352,   100] loss: 0.057\n",
            "[353,   100] loss: 0.057\n",
            "[354,   100] loss: 0.057\n",
            "[355,   100] loss: 0.058\n",
            "[356,   100] loss: 0.057\n",
            "[357,   100] loss: 0.058\n",
            "[358,   100] loss: 0.057\n",
            "[359,   100] loss: 0.057\n",
            "[360,   100] loss: 0.058\n",
            "[361,   100] loss: 0.056\n",
            "[362,   100] loss: 0.057\n",
            "[363,   100] loss: 0.057\n",
            "[364,   100] loss: 0.056\n",
            "[365,   100] loss: 0.057\n",
            "[366,   100] loss: 0.057\n",
            "[367,   100] loss: 0.056\n",
            "[368,   100] loss: 0.058\n",
            "[369,   100] loss: 0.057\n",
            "[370,   100] loss: 0.057\n",
            "[371,   100] loss: 0.056\n",
            "[372,   100] loss: 0.057\n",
            "[373,   100] loss: 0.057\n",
            "[374,   100] loss: 0.057\n",
            "[375,   100] loss: 0.057\n",
            "[376,   100] loss: 0.057\n",
            "[377,   100] loss: 0.058\n",
            "[378,   100] loss: 0.057\n",
            "[379,   100] loss: 0.056\n",
            "[380,   100] loss: 0.056\n",
            "[381,   100] loss: 0.056\n",
            "[382,   100] loss: 0.057\n",
            "[383,   100] loss: 0.056\n",
            "[384,   100] loss: 0.058\n",
            "[385,   100] loss: 0.057\n",
            "[386,   100] loss: 0.057\n",
            "[387,   100] loss: 0.057\n",
            "[388,   100] loss: 0.057\n",
            "[389,   100] loss: 0.057\n",
            "[390,   100] loss: 0.056\n",
            "[391,   100] loss: 0.057\n",
            "[392,   100] loss: 0.056\n",
            "[393,   100] loss: 0.056\n",
            "[394,   100] loss: 0.057\n",
            "[395,   100] loss: 0.057\n",
            "[396,   100] loss: 0.056\n",
            "[397,   100] loss: 0.057\n",
            "[398,   100] loss: 0.057\n",
            "[399,   100] loss: 0.057\n",
            "[400,   100] loss: 0.056\n",
            "[401,   100] loss: 0.057\n",
            "[402,   100] loss: 0.058\n",
            "[403,   100] loss: 0.057\n",
            "[404,   100] loss: 0.057\n",
            "[405,   100] loss: 0.057\n",
            "[406,   100] loss: 0.058\n",
            "[407,   100] loss: 0.056\n",
            "[408,   100] loss: 0.058\n",
            "[409,   100] loss: 0.056\n",
            "[410,   100] loss: 0.057\n",
            "[411,   100] loss: 0.056\n",
            "[412,   100] loss: 0.056\n",
            "[413,   100] loss: 0.057\n",
            "[414,   100] loss: 0.057\n",
            "[415,   100] loss: 0.056\n",
            "[416,   100] loss: 0.056\n",
            "[417,   100] loss: 0.057\n",
            "[418,   100] loss: 0.056\n",
            "[419,   100] loss: 0.056\n",
            "[420,   100] loss: 0.057\n",
            "[421,   100] loss: 0.057\n",
            "[422,   100] loss: 0.056\n",
            "[423,   100] loss: 0.056\n",
            "[424,   100] loss: 0.056\n",
            "[425,   100] loss: 0.056\n",
            "[426,   100] loss: 0.056\n",
            "[427,   100] loss: 0.057\n",
            "[428,   100] loss: 0.057\n",
            "[429,   100] loss: 0.056\n",
            "[430,   100] loss: 0.057\n",
            "[431,   100] loss: 0.056\n",
            "[432,   100] loss: 0.057\n",
            "[433,   100] loss: 0.056\n",
            "[434,   100] loss: 0.056\n",
            "[435,   100] loss: 0.056\n",
            "[436,   100] loss: 0.057\n",
            "[437,   100] loss: 0.057\n",
            "[438,   100] loss: 0.056\n",
            "[439,   100] loss: 0.056\n",
            "[440,   100] loss: 0.056\n",
            "[441,   100] loss: 0.057\n",
            "[442,   100] loss: 0.055\n",
            "[443,   100] loss: 0.056\n",
            "[444,   100] loss: 0.056\n",
            "[445,   100] loss: 0.057\n",
            "[446,   100] loss: 0.056\n",
            "[447,   100] loss: 0.056\n",
            "[448,   100] loss: 0.056\n",
            "[449,   100] loss: 0.056\n",
            "[450,   100] loss: 0.056\n",
            "[451,   100] loss: 0.056\n",
            "[452,   100] loss: 0.056\n",
            "[453,   100] loss: 0.056\n",
            "[454,   100] loss: 0.056\n",
            "[455,   100] loss: 0.056\n",
            "[456,   100] loss: 0.056\n",
            "[457,   100] loss: 0.056\n",
            "[458,   100] loss: 0.056\n",
            "[459,   100] loss: 0.057\n",
            "[460,   100] loss: 0.057\n",
            "[461,   100] loss: 0.057\n",
            "[462,   100] loss: 0.056\n",
            "[463,   100] loss: 0.056\n",
            "[464,   100] loss: 0.058\n",
            "[465,   100] loss: 0.056\n",
            "[466,   100] loss: 0.056\n",
            "[467,   100] loss: 0.056\n",
            "[468,   100] loss: 0.056\n",
            "[469,   100] loss: 0.056\n",
            "[470,   100] loss: 0.057\n",
            "[471,   100] loss: 0.057\n",
            "[472,   100] loss: 0.057\n",
            "[473,   100] loss: 0.058\n",
            "[474,   100] loss: 0.056\n",
            "[475,   100] loss: 0.057\n",
            "[476,   100] loss: 0.056\n",
            "[477,   100] loss: 0.056\n",
            "[478,   100] loss: 0.056\n",
            "[479,   100] loss: 0.056\n",
            "[480,   100] loss: 0.055\n",
            "[481,   100] loss: 0.056\n",
            "[482,   100] loss: 0.056\n",
            "[483,   100] loss: 0.057\n",
            "[484,   100] loss: 0.056\n",
            "[485,   100] loss: 0.055\n",
            "[486,   100] loss: 0.056\n",
            "[487,   100] loss: 0.056\n",
            "[488,   100] loss: 0.059\n",
            "[489,   100] loss: 0.056\n",
            "[490,   100] loss: 0.056\n",
            "[491,   100] loss: 0.058\n",
            "[492,   100] loss: 0.056\n",
            "[493,   100] loss: 0.056\n",
            "[494,   100] loss: 0.057\n",
            "[495,   100] loss: 0.056\n",
            "[496,   100] loss: 0.056\n",
            "[497,   100] loss: 0.056\n",
            "[498,   100] loss: 0.056\n",
            "[499,   100] loss: 0.056\n",
            "[500,   100] loss: 0.055\n",
            "Finished Training\n"
          ],
          "name": "stdout"
        }
      ]
    },
    {
      "cell_type": "code",
      "metadata": {
        "id": "Yj7osw56YJ0t",
        "colab_type": "code",
        "colab": {}
      },
      "source": [
        "torch.save(net.state_dict(), './classifier_BS8.pth')"
      ],
      "execution_count": null,
      "outputs": []
    },
    {
      "cell_type": "markdown",
      "metadata": {
        "id": "ggCFj-yUYJ0v",
        "colab_type": "text"
      },
      "source": [
        "## Evaluation"
      ]
    },
    {
      "cell_type": "markdown",
      "metadata": {
        "id": "fzr9yk4IYJ0v",
        "colab_type": "text"
      },
      "source": [
        "### Exp 1"
      ]
    },
    {
      "cell_type": "code",
      "metadata": {
        "id": "HW025XhxYJ0w",
        "colab_type": "code",
        "colab": {},
        "outputId": "685862f4-ef39-493e-873c-9a0c7c6ab808"
      },
      "source": [
        "exp1 = Net()\n",
        "\n",
        "exp1.load_state_dict(torch.load('./classifier.pth'))\n",
        "\n",
        "testloader = torch.utils.data.DataLoader(test_dataset, batch_size=4,\n",
        "                                          shuffle=True, num_workers=0)\n",
        "\n",
        "dataiter = iter(testloader)\n",
        "images, labels = dataiter.next()\n",
        "# images_list = []\n",
        "# labels_list = []\n",
        "# for i in range(4):\n",
        "#     image, label = dataiter.next()\n",
        "#     images_list.append(image.tolist())\n",
        "#     labels_list.append(label.tolist())\n",
        "# print(len(images_list))\n",
        "# images = torch.FloatTensor(images_list)\n",
        "# labels = torch.Tensor(labels_list, dtype=torch.int8)\n",
        "\n",
        "imshow(torchvision.utils.make_grid(images))\n",
        "print('GroundTruth: ', ' '.join('%5s   ' % classes[labels[j]] for j in range(4)))\n",
        "\n",
        "outputs = exp1(images)\n",
        "_, predicted = torch.max(outputs, 1)\n",
        "\n",
        "imshow(torchvision.utils.make_grid(images))\n",
        "print('Predicted: ', ' '.join('%5s   ' % classes[predicted[j]]\n",
        "                              for j in range(4)))\n"
      ],
      "execution_count": null,
      "outputs": [
        {
          "output_type": "display_data",
          "data": {
            "image/png": "[encoded data removed]",
            "text/plain": [
              "<Figure size 576x360 with 1 Axes>"
            ]
          },
          "metadata": {
            "tags": [],
            "needs_background": "light"
          }
        },
        {
          "output_type": "stream",
          "text": [
            "GroundTruth:  Space    Mixed    Streaks    Space   \n"
          ],
          "name": "stdout"
        },
        {
          "output_type": "display_data",
          "data": {
            "image/png": "[encoded data removed]",
            "text/plain": [
              "<Figure size 576x360 with 1 Axes>"
            ]
          },
          "metadata": {
            "tags": [],
            "needs_background": "light"
          }
        },
        {
          "output_type": "stream",
          "text": [
            "Predicted:  Space    Spots    Streaks    Space   \n"
          ],
          "name": "stdout"
        }
      ]
    },
    {
      "cell_type": "markdown",
      "metadata": {
        "id": "gqPOfxJTYJ0y",
        "colab_type": "text"
      },
      "source": [
        "#### Accuracy on Data"
      ]
    },
    {
      "cell_type": "code",
      "metadata": {
        "id": "iI6zp7f5YJ0y",
        "colab_type": "code",
        "colab": {}
      },
      "source": [
        "from sklearn.metrics import confusion_matrix"
      ],
      "execution_count": null,
      "outputs": []
    },
    {
      "cell_type": "code",
      "metadata": {
        "id": "oUcaa1GwYJ00",
        "colab_type": "code",
        "colab": {}
      },
      "source": [
        "with torch.no_grad():\n",
        "    data_loader = torch.utils.data.DataLoader(dataset, batch_size=1,\n",
        "                                              shuffle=True, num_workers=0)"
      ],
      "execution_count": null,
      "outputs": []
    },
    {
      "cell_type": "code",
      "metadata": {
        "id": "zaU0VjcXYJ02",
        "colab_type": "code",
        "colab": {}
      },
      "source": [
        "@torch.no_grad()\n",
        "def get_all_preds(model, loader):\n",
        "    all_preds = torch.tensor([])\n",
        "    all_labels = torch.tensor([],dtype = torch.int64)\n",
        "    for batch in loader:\n",
        "        images, labels = batch\n",
        "\n",
        "        preds = model(images)\n",
        "        all_preds = torch.cat(\n",
        "            (all_preds, preds)\n",
        "            ,dim=0\n",
        "        )\n",
        "        all_labels = torch.cat(\n",
        "            (all_labels, labels)\n",
        "            ,dim=0\n",
        "        )\n",
        "    return all_preds, all_labels"
      ],
      "execution_count": null,
      "outputs": []
    },
    {
      "cell_type": "code",
      "metadata": {
        "id": "_hFm5r-QYJ04",
        "colab_type": "code",
        "colab": {}
      },
      "source": [
        "def plot_confusion_matrix(cm, classes, normalize=False, title='Confusion matrix', cmap=plt.cm.Blues):\n",
        "    if normalize:\n",
        "        cm = cm.astype('float') / cm.sum(axis=1)[:, np.newaxis]\n",
        "        print(\"Normalized confusion matrix\")\n",
        "    else:\n",
        "        print('Confusion matrix, without normalization')\n",
        "        \n",
        "    plt.imshow(cm, interpolation='nearest', cmap=cmap)\n",
        "    plt.title(title)\n",
        "    plt.colorbar()\n",
        "    tick_marks = np.arange(len(classes))\n",
        "    plt.xticks(tick_marks, classes, rotation=45)\n",
        "    plt.yticks(tick_marks, classes)\n",
        "\n",
        "    fmt = '.2f' if normalize else 'd'\n",
        "    thresh = cm.max() / 2.\n",
        "    for i, j in itertools.product(range(cm.shape[0]), range(cm.shape[1])):\n",
        "        plt.text(j, i, format(cm[i, j], fmt), horizontalalignment=\"center\", color=\"white\" if cm[i, j] > thresh else \"black\")\n",
        "        \n",
        "    plt.tight_layout()\n",
        "    plt.ylabel('True label')\n",
        "    plt.xlabel('Predicted label')"
      ],
      "execution_count": null,
      "outputs": []
    },
    {
      "cell_type": "code",
      "metadata": {
        "id": "yAXIpj7rYJ06",
        "colab_type": "code",
        "colab": {}
      },
      "source": [
        "preds,labels = get_all_preds(exp1,data_loader)\n",
        "cm = confusion_matrix(labels,preds.argmax(dim=1))"
      ],
      "execution_count": null,
      "outputs": []
    },
    {
      "cell_type": "code",
      "metadata": {
        "id": "F598IszMYJ08",
        "colab_type": "code",
        "colab": {},
        "outputId": "3065c16e-b6d9-4302-8a6b-f8f83cb4abf0"
      },
      "source": [
        "correct = 0\n",
        "total = 0\n",
        "with torch.no_grad():\n",
        "    for data in data_loader:\n",
        "        images, labels = data\n",
        "        outputs = exp1(images)\n",
        "        _, predicted = torch.max(outputs.data, 1)\n",
        "        total += labels.size(0)\n",
        "        correct += (predicted == labels).sum().item()\n",
        "\n",
        "print('Accuracy of network 1 on %d images: %d %%' % (len(data_loader),\n",
        "    100 * correct / total))"
      ],
      "execution_count": null,
      "outputs": [
        {
          "output_type": "stream",
          "text": [
            "Accuracy of network 1 on 1452 images: 89 %\n"
          ],
          "name": "stdout"
        }
      ]
    },
    {
      "cell_type": "code",
      "metadata": {
        "id": "V_1_Cp80YJ0_",
        "colab_type": "code",
        "colab": {},
        "outputId": "3580cce8-cfa9-4111-d83b-b83d8dd7624e"
      },
      "source": [
        "class_correct = list(0. for i in range(5))\n",
        "class_total = list(0. for i in range(5))\n",
        "with torch.no_grad():\n",
        "    for data in data_loader:\n",
        "        images, labels = data\n",
        "        outputs = exp1(images)\n",
        "        _, predicted = torch.max(outputs, 1)\n",
        "        c = (predicted == labels).squeeze()\n",
        "#         print(c.item())\n",
        "#         print(c.shape)\n",
        "#         print(predicted)\n",
        "        for i in range(1):\n",
        "            label = labels[i]\n",
        "#             print(label)\n",
        "            class_correct[label] += c.item()\n",
        "            class_total[label] += 1\n",
        "for i in range(5):\n",
        "    print('Accuracy of %5s : %2d %%' % (\n",
        "        classes[i], 100 * class_correct[i] / class_total[i]))"
      ],
      "execution_count": null,
      "outputs": [
        {
          "output_type": "stream",
          "text": [
            "Accuracy of Crater : 92 %\n",
            "Accuracy of Mixed : 75 %\n",
            "Accuracy of Space : 94 %\n",
            "Accuracy of Spots : 91 %\n",
            "Accuracy of Streaks : 94 %\n"
          ],
          "name": "stdout"
        }
      ]
    },
    {
      "cell_type": "code",
      "metadata": {
        "id": "UMn-I6gpYJ1A",
        "colab_type": "code",
        "colab": {},
        "outputId": "d07e43ed-7313-4fc8-e5e6-a31cba41f12c"
      },
      "source": [
        "# Train Data\n",
        "plot_confusion_matrix(cm,classes)"
      ],
      "execution_count": null,
      "outputs": [
        {
          "output_type": "stream",
          "text": [
            "Confusion matrix, without normalization\n"
          ],
          "name": "stdout"
        },
        {
          "output_type": "display_data",
          "data": {
            "image/png": "[encoded data removed]",
            "text/plain": [
              "<Figure size 576x360 with 2 Axes>"
            ]
          },
          "metadata": {
            "tags": [],
            "needs_background": "light"
          }
        }
      ]
    },
    {
      "cell_type": "markdown",
      "metadata": {
        "id": "wQ7klOrdYJ1C",
        "colab_type": "text"
      },
      "source": [
        "### Exp 2"
      ]
    },
    {
      "cell_type": "markdown",
      "metadata": {
        "id": "2kFFkWKQYJ1D",
        "colab_type": "text"
      },
      "source": [
        "#### Accuracy on  Data"
      ]
    },
    {
      "cell_type": "code",
      "metadata": {
        "id": "5JG5BZx1YJ1D",
        "colab_type": "code",
        "colab": {},
        "outputId": "f0be260e-270b-412d-e20d-5f63a9daa414"
      },
      "source": [
        "exp2 = Net()\n",
        "exp2.load_state_dict(torch.load('./classifier_BS8.pth'))\n",
        "\n",
        "dataiter = iter(testloader)\n",
        "images, labels = dataiter.next()\n",
        "\n",
        "imshow(torchvision.utils.make_grid(images))\n",
        "print('GroundTruth: ', ' '.join('%5s   ' % classes[labels[j]] for j in range(4)))\n",
        "\n",
        "outputs = exp2(images)\n",
        "_, predicted = torch.max(outputs, 1)\n",
        "\n",
        "imshow(torchvision.utils.make_grid(images))\n",
        "print('Predicted: ', ' '.join('%5s   ' % classes[predicted[j]]\n",
        "                              for j in range(4)))\n"
      ],
      "execution_count": null,
      "outputs": [
        {
          "output_type": "display_data",
          "data": {
            "image/png": "[encoded data removed]",
            "text/plain": [
              "<Figure size 576x360 with 1 Axes>"
            ]
          },
          "metadata": {
            "tags": [],
            "needs_background": "light"
          }
        },
        {
          "output_type": "stream",
          "text": [
            "GroundTruth:  Mixed    Crater    Spots    Crater   \n"
          ],
          "name": "stdout"
        },
        {
          "output_type": "display_data",
          "data": {
            "image/png": "[encoded data removed]",
            "text/plain": [
              "<Figure size 576x360 with 1 Axes>"
            ]
          },
          "metadata": {
            "tags": [],
            "needs_background": "light"
          }
        },
        {
          "output_type": "stream",
          "text": [
            "Predicted:  Crater    Crater    Spots    Crater   \n"
          ],
          "name": "stdout"
        }
      ]
    },
    {
      "cell_type": "code",
      "metadata": {
        "id": "zdML6yoSYJ1F",
        "colab_type": "code",
        "colab": {},
        "outputId": "fc51944b-7f76-4568-dd14-df497a6f0f89"
      },
      "source": [
        "correct = 0\n",
        "total = 0\n",
        "with torch.no_grad():\n",
        "    for data in data_loader:\n",
        "        images, labels = data\n",
        "        outputs = exp2(images)\n",
        "        _, predicted = torch.max(outputs.data, 1)\n",
        "        total += labels.size(0)\n",
        "        correct += (predicted == labels).sum().item()\n",
        "\n",
        "print('Accuracy of the network 2 on %d images: %d %%' % (len(data_loader),\n",
        "    100 * correct / total))"
      ],
      "execution_count": null,
      "outputs": [
        {
          "output_type": "stream",
          "text": [
            "Accuracy of the network 2 on 1452 images: 77 %\n"
          ],
          "name": "stdout"
        }
      ]
    },
    {
      "cell_type": "code",
      "metadata": {
        "id": "0bn8NXTMYJ1H",
        "colab_type": "code",
        "colab": {},
        "outputId": "71bcba34-088d-49d6-f90e-9617d896b06e"
      },
      "source": [
        "class_correct = list(0. for i in range(5))\n",
        "class_total = list(0. for i in range(5))\n",
        "with torch.no_grad():\n",
        "    for data in data_loader:\n",
        "        images, labels = data\n",
        "        outputs = exp2(images)\n",
        "        _, predicted = torch.max(outputs, 1)\n",
        "        c = (predicted == labels).squeeze()\n",
        "        for i in range(1):\n",
        "            label = labels[i]\n",
        "#             print(label)\n",
        "            class_correct[label] += c.item()\n",
        "            class_total[label] += 1\n",
        "for i in range(5):\n",
        "    print('Accuracy of %5s : %2d %%' % (\n",
        "        classes[i], 100 * class_correct[i] / class_total[i]))"
      ],
      "execution_count": null,
      "outputs": [
        {
          "output_type": "stream",
          "text": [
            "Accuracy of Crater : 93 %\n",
            "Accuracy of Mixed :  0 %\n",
            "Accuracy of Space : 95 %\n",
            "Accuracy of Spots : 90 %\n",
            "Accuracy of Streaks : 96 %\n"
          ],
          "name": "stdout"
        }
      ]
    },
    {
      "cell_type": "code",
      "metadata": {
        "id": "12ERm8pTYJ1J",
        "colab_type": "code",
        "colab": {}
      },
      "source": [
        "preds,labels = get_all_preds(exp2,data_loader)\n",
        "cm2 = confusion_matrix(labels,preds.argmax(dim=1))"
      ],
      "execution_count": null,
      "outputs": []
    },
    {
      "cell_type": "code",
      "metadata": {
        "id": "aJv-cMmZYJ1L",
        "colab_type": "code",
        "colab": {},
        "outputId": "fd0c0f48-cc00-476f-ba2d-6d2bdeaba056"
      },
      "source": [
        "# Test Data\n",
        "plot_confusion_matrix(cm2,classes)"
      ],
      "execution_count": null,
      "outputs": [
        {
          "output_type": "stream",
          "text": [
            "Confusion matrix, without normalization\n"
          ],
          "name": "stdout"
        },
        {
          "output_type": "display_data",
          "data": {
            "image/png": "[encoded data removed]",
            "text/plain": [
              "<Figure size 576x360 with 2 Axes>"
            ]
          },
          "metadata": {
            "tags": [],
            "needs_background": "light"
          }
        }
      ]
    },
    {
      "cell_type": "code",
      "metadata": {
        "id": "fwvpGU7tYJ1N",
        "colab_type": "code",
        "colab": {}
      },
      "source": [
        ""
      ],
      "execution_count": null,
      "outputs": []
    }
  ]
}